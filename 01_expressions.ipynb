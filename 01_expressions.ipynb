{
  "nbformat": 4,
  "nbformat_minor": 0,
  "metadata": {
    "colab": {
      "provenance": [],
      "authorship_tag": "ABX9TyPDd1N35V6alAi5mAngHvhl",
      "include_colab_link": true
    },
    "kernelspec": {
      "name": "python3",
      "display_name": "Python 3"
    },
    "language_info": {
      "name": "python"
    }
  },
  "cells": [
    {
      "cell_type": "markdown",
      "metadata": {
        "id": "view-in-github",
        "colab_type": "text"
      },
      "source": [
        "<a href=\"https://colab.research.google.com/github/jamshedulhaquesheikh00/Jamshed_Ul_Haque_Sheikh_April_codings_nights_0001/blob/main/01_expressions.ipynb\" target=\"_parent\"><img src=\"https://colab.research.google.com/assets/colab-badge.svg\" alt=\"Open In Colab\"/></a>"
      ]
    },
    {
      "cell_type": "markdown",
      "source": [
        "# Solution"
      ],
      "metadata": {
        "id": "sHzekFEyLBHk"
      }
    },
    {
      "cell_type": "code",
      "source": [
        "import random\n",
        "\n",
        "NUM_SIDES = 8\n",
        "\n",
        "def roll_dice():\n",
        "    die1 = random.randint(1, NUM_SIDES)\n",
        "    die2 = random.randint(1, NUM_SIDES)\n",
        "    total = die1 + die2\n",
        "    print(\"Total of two dice:\", total)\n",
        "    print()  # Add a blank line\n",
        "\n",
        "def main():\n",
        "    die1 = 8\n",
        "    print(\"die1 in main() starts as:\", die1)\n",
        "    roll_dice()\n",
        "    roll_dice()\n",
        "    roll_dice()\n",
        "    print(\"die1 in main() is:\", die1)\n",
        "\n",
        "if __name__ == '__main__':\n",
        "    main()"
      ],
      "metadata": {
        "colab": {
          "base_uri": "https://localhost:8080/"
        },
        "id": "60NNTdxeLNTI",
        "outputId": "0df2f94c-397c-4c7a-f734-64900ade870b"
      },
      "execution_count": null,
      "outputs": [
        {
          "output_type": "stream",
          "name": "stdout",
          "text": [
            "die1 in main() starts as: 8\n",
            "Total of two dice: 11\n",
            "\n",
            "Total of two dice: 11\n",
            "\n",
            "Total of two dice: 13\n",
            "\n",
            "die1 in main() is: 8\n"
          ]
        }
      ]
    },
    {
      "cell_type": "markdown",
      "source": [
        "# 01_dicesimulator.md"
      ],
      "metadata": {
        "id": "F_NzeYyQ3HVl"
      }
    },
    {
      "cell_type": "markdown",
      "source": [
        "# Starter Code"
      ],
      "metadata": {
        "id": "hlIjPZuu38SV"
      }
    },
    {
      "cell_type": "code",
      "source": [
        "import random\n",
        "\n",
        "def roll_dice():\n",
        "  roll = random.randint(1, 6)\n",
        "  return roll\n",
        "\n",
        "print(roll_dice())"
      ],
      "metadata": {
        "colab": {
          "base_uri": "https://localhost:8080/"
        },
        "id": "STlUdte_4Crh",
        "outputId": "e8968446-2aec-4878-d672-5c7b76c22c73"
      },
      "execution_count": null,
      "outputs": [
        {
          "output_type": "stream",
          "name": "stdout",
          "text": [
            "6\n"
          ]
        }
      ]
    },
    {
      "cell_type": "markdown",
      "source": [
        "# 02_e=mc2.md"
      ],
      "metadata": {
        "id": "DzST0me1M3sL"
      }
    },
    {
      "cell_type": "markdown",
      "source": [
        "# Starter Code"
      ],
      "metadata": {
        "id": "-R4xOlR0M7Nr"
      }
    },
    {
      "cell_type": "code",
      "source": [
        "def calculate_energy(mass):\n",
        "    # Speed of light (m/s)\n",
        "    speed_of_light = 299792458\n",
        "    energy = mass * (speed_of_light ** 2)\n",
        "    return energy\n",
        "\n",
        "# Example usage:\n",
        "mass_in_kilograms = 10\n",
        "energy = calculate_energy(mass_in_kilograms)\n",
        "print(energy)"
      ],
      "metadata": {
        "colab": {
          "base_uri": "https://localhost:8080/"
        },
        "id": "_aTy5Q9DNB0f",
        "outputId": "063da9d1-eb73-492f-93bb-c30a03438ef5"
      },
      "execution_count": null,
      "outputs": [
        {
          "output_type": "stream",
          "name": "stdout",
          "text": [
            "898755178736817640\n"
          ]
        }
      ]
    },
    {
      "cell_type": "markdown",
      "source": [
        "# Solution"
      ],
      "metadata": {
        "id": "9_db8hFcVjFr"
      }
    },
    {
      "cell_type": "code",
      "source": [
        "C: int = 299792458  # The speed of light in m/s\n",
        "\n",
        "def main():\n",
        "    while True:\n",
        "        try:\n",
        "            mass_in_kg: float = float(input(\"Enter kilos of mass: \"))\n",
        "            break  # Exit loop if input is valid\n",
        "        except ValueError:\n",
        "            print(\"Invalid input. Please enter a number.\")\n",
        "\n",
        "    energy_in_joules: float = mass_in_kg * (C ** 2)\n",
        "\n",
        "    print(\"e = m * C^2...\")\n",
        "    print(f\"m = {mass_in_kg} kg\")\n",
        "    print(f\"C = {C} m/s\")\n",
        "    print(f\"{energy_in_joules} joules of energy!\")\n",
        "\n",
        "if __name__ == '__main__':\n",
        "    main()"
      ],
      "metadata": {
        "colab": {
          "base_uri": "https://localhost:8080/"
        },
        "id": "FvQGfiD6Vpav",
        "outputId": "d6f3c487-b106-4eb1-e377-59d0279d6593"
      },
      "execution_count": null,
      "outputs": [
        {
          "output_type": "stream",
          "name": "stdout",
          "text": [
            "Enter kilos of mass: 100\n",
            "e = m * C^2...\n",
            "m = 100.0 kg\n",
            "C = 299792458 m/s\n",
            "8.987551787368176e+18 joules of energy!\n"
          ]
        }
      ]
    },
    {
      "cell_type": "markdown",
      "source": [
        "# 03_feet_to_inches.md\n"
      ],
      "metadata": {
        "id": "W7of-9smWHnV"
      }
    },
    {
      "cell_type": "markdown",
      "source": [
        "# Starter Code"
      ],
      "metadata": {
        "id": "E779OGTUWKM_"
      }
    },
    {
      "cell_type": "code",
      "source": [
        "def main():\n",
        "  feet = float(input(\"Enter the number of feet: \"))\n",
        "  inches = feet * 12\n",
        "  print(f\"{feet} feet is equal to {inches} inches.\")\n",
        "\n",
        "  if _name_ == '_main_':\n",
        "   main()"
      ],
      "metadata": {
        "id": "TYbK01WbWPOX"
      },
      "execution_count": null,
      "outputs": []
    },
    {
      "cell_type": "markdown",
      "source": [
        "# Solution"
      ],
      "metadata": {
        "id": "DRnzQyTgXHV5"
      }
    },
    {
      "cell_type": "code",
      "source": [
        "INCHES_IN_FOOT: int = 12\n",
        "\n",
        "def main():\n",
        "    feet: float = float(input(\"Enter number of feet:   \"))\n",
        "    inches: float = feet * INCHES_IN_FOOT\n",
        "    print(\"That is\", inches, \"inches!\")\n",
        "    print()  # Add a blank line\n",
        "\n",
        "if __name__ == '__main__':\n",
        "    main()"
      ],
      "metadata": {
        "colab": {
          "base_uri": "https://localhost:8080/"
        },
        "id": "JfttNIJ5XK6i",
        "outputId": "dd0e8d3e-d8fc-48fd-8ae5-89a32ebce9e4"
      },
      "execution_count": null,
      "outputs": [
        {
          "output_type": "stream",
          "name": "stdout",
          "text": [
            "Enter number of feet:   1\n",
            "That is 12.0 inches!\n",
            "\n"
          ]
        }
      ]
    },
    {
      "cell_type": "markdown",
      "source": [
        "# 04_pythagorean_theorem.md"
      ],
      "metadata": {
        "id": "YnH0HTDfXyiH"
      }
    },
    {
      "cell_type": "markdown",
      "source": [
        "# Starter Code\n"
      ],
      "metadata": {
        "id": "RPpshp-QYEBJ"
      }
    },
    {
      "cell_type": "code",
      "source": [
        "def pythagorean_theorem(a, b):\n",
        "  \"\"\"\n",
        "  This function calculates the hypotenuse of a right triangle given the lengths of the other two sides.\n",
        "  \"\"\"\n",
        "  c_squared = a*2 + b*2\n",
        "  c = c_squared**0.5\n",
        "  return c\n",
        "\n",
        "# Example usage:\n",
        "side_a = 3\n",
        "side_b = 4\n",
        "hypotenuse = pythagorean_theorem(side_a, side_b)\n",
        "print(hypotenuse)"
      ],
      "metadata": {
        "colab": {
          "base_uri": "https://localhost:8080/"
        },
        "id": "Ne9X5RKAYK-W",
        "outputId": "0143f894-f996-4624-9c78-fc4c2955c7e1"
      },
      "execution_count": null,
      "outputs": [
        {
          "output_type": "stream",
          "name": "stdout",
          "text": [
            "3.7416573867739413\n"
          ]
        }
      ]
    },
    {
      "cell_type": "markdown",
      "source": [
        "# Solution"
      ],
      "metadata": {
        "id": "owfzOKg9YRQS"
      }
    },
    {
      "cell_type": "code",
      "source": [
        "def pythagorean_theorem(a, b, c):\n",
        "  \"\"\"\n",
        "  Checks if the Pythagorean theorem holds true for given side lengths.\n",
        "\n",
        "  Args:\n",
        "    a: Length of side a.\n",
        "    b: Length of side b.\n",
        "    c: Length of side c.\n",
        "\n",
        "  Returns:\n",
        "    True if a^2 + b^2 = c^2, False otherwise.\n",
        "  \"\"\"\n",
        "  return a**2 + b**2 == c**2\n",
        "\n",
        "# Example Usage:\n",
        "print(pythagorean_theorem(3, 4, 5))  # Output: True\n",
        "print(pythagorean_theorem(1, 2, 3))  # Output: False\n",
        "print(pythagorean_theorem(5, 12, 13)) #Output: True\n",
        "\n",
        "def find_hypotenuse(a,b):\n",
        "    \"\"\"\n",
        "    Finds the hypotenuse given the other two sides.\n",
        "    Args:\n",
        "      a: length of side a.\n",
        "      b: length of side b.\n",
        "    Returns:\n",
        "      The length of the hypotenuse.\n",
        "    \"\"\"\n",
        "    return (a**2 + b**2)**0.5\n",
        "\n",
        "print(find_hypotenuse(3,4)) #output: 5.0\n",
        "\n",
        "def find_side(hypotenuse, side):\n",
        "    \"\"\"\n",
        "    Finds the missing side of a right triangle.\n",
        "    Args:\n",
        "      hypotenuse: length of the hypotenuse.\n",
        "      side: length of the other side.\n",
        "    Returns:\n",
        "      The length of the missing side.\n",
        "    \"\"\"\n",
        "    return (hypotenuse**2 - side**2)**0.5\n",
        "\n",
        "print(find_side(5,3)) #output 4.0\n",
        "print(find_side(13,12)) #output 5.0"
      ],
      "metadata": {
        "colab": {
          "base_uri": "https://localhost:8080/"
        },
        "id": "3nt9LWzKYWC2",
        "outputId": "614fac6f-e656-4272-9828-4e076fee6737"
      },
      "execution_count": null,
      "outputs": [
        {
          "output_type": "stream",
          "name": "stdout",
          "text": [
            "True\n",
            "False\n",
            "True\n",
            "5.0\n",
            "4.0\n",
            "5.0\n"
          ]
        }
      ]
    },
    {
      "cell_type": "markdown",
      "source": [
        "# 05_remainder_division.md"
      ],
      "metadata": {
        "id": "0TFklb3OUQ7s"
      }
    },
    {
      "cell_type": "markdown",
      "source": [
        "# Starter Code"
      ],
      "metadata": {
        "id": "MG8sksUfUUji"
      }
    },
    {
      "cell_type": "code",
      "source": [
        "def remainder_division(dividend, divisor):\n",
        "  \"\"\"\n",
        "  Calculates the remainder when dividend is divided by divisor.\n",
        "  \"\"\"\n",
        "  quotient = dividend // divisor\n",
        "  remainder = dividend % divisor\n",
        "  return remainder\n",
        "\n",
        "# Example usage:\n",
        "num1 = 10\n",
        "num2 = 3\n",
        "result = remainder_division(num1, num2)\n",
        "print(result)"
      ],
      "metadata": {
        "colab": {
          "base_uri": "https://localhost:8080/"
        },
        "id": "kSX07PdyUusS",
        "outputId": "c7b49925-333a-42f6-b63e-98833b6b5d44"
      },
      "execution_count": null,
      "outputs": [
        {
          "output_type": "stream",
          "name": "stdout",
          "text": [
            "1\n"
          ]
        }
      ]
    },
    {
      "cell_type": "markdown",
      "source": [
        "# Solution"
      ],
      "metadata": {
        "id": "A3ZDacmWU4jF"
      }
    },
    {
      "cell_type": "code",
      "source": [
        "def remainder_division(dividend, divisor):\n",
        "  \"\"\"\n",
        "  Calculates the quotient and remainder of a division.\n",
        "\n",
        "  Args:\n",
        "    dividend: The number being divided.\n",
        "    divisor: The number dividing the dividend.\n",
        "\n",
        "  Returns:\n",
        "    A tuple containing the quotient and remainder (quotient, remainder).\n",
        "  \"\"\"\n",
        "  quotient = dividend // divisor\n",
        "  remainder = dividend % divisor\n",
        "  return (quotient, remainder)\n",
        "\n",
        "# Example Usage:\n",
        "print(remainder_division(10, 3))  # Output: (3, 1)\n",
        "print(remainder_division(15, 5))  # Output: (3, 0)\n",
        "print(remainder_division(22, 7)) # Output: (3, 1)\n",
        "print(remainder_division(9, 2))  # Output: (4, 1)"
      ],
      "metadata": {
        "colab": {
          "base_uri": "https://localhost:8080/"
        },
        "id": "vRSUcqusU7HT",
        "outputId": "ca06bbf8-6aa8-4bcb-8b1b-319fe6e35857"
      },
      "execution_count": null,
      "outputs": [
        {
          "output_type": "stream",
          "name": "stdout",
          "text": [
            "(3, 1)\n",
            "(3, 0)\n",
            "(3, 1)\n",
            "(4, 1)\n"
          ]
        }
      ]
    },
    {
      "cell_type": "markdown",
      "source": [
        "# 06_rolldice.md\n"
      ],
      "metadata": {
        "id": "D-PgXP5bVOkg"
      }
    },
    {
      "cell_type": "markdown",
      "source": [
        "# Starter Code"
      ],
      "metadata": {
        "id": "70D6tJ2OVVQ1"
      }
    },
    {
      "cell_type": "code",
      "source": [
        "import random\n",
        "\n",
        "def roll_dice(num_dice=2):\n",
        "  \"\"\"Simulates rolling a specified number of dice.\n",
        "\n",
        "  Args:\n",
        "    num_dice: The number of dice to roll (default is 2).\n",
        "\n",
        "  Returns:\n",
        "    A list containing the results of each dice roll.\n",
        "  \"\"\"\n",
        "  rolls = []\n",
        "  for _ in range(num_dice):\n",
        "    rolls.append(random.randint(1, 6))\n",
        "  return rolls\n",
        "\n",
        "def main():\n",
        "  \"\"\"Main function to run the dice rolling simulation.\"\"\"\n",
        "  try:\n",
        "    num_dice = int(input(\"Enter the number of dice to roll: \"))\n",
        "    if num_dice <= 0:\n",
        "      print(\"Please enter a positive number of dice.\")\n",
        "      return\n",
        "\n",
        "    results = roll_dice(num_dice)\n",
        "    print(f\"Results of rolling {num_dice} dice: {results}\")\n",
        "    print(f\"Sum of the rolls: {sum(results)}\")\n",
        "\n",
        "  except ValueError:\n",
        "    print(\"Invalid input. Please enter a valid integer.\")\n",
        "\n",
        "if __name__ == \"__main__\":\n",
        "  main()"
      ],
      "metadata": {
        "id": "PgYASzNHVb98",
        "colab": {
          "base_uri": "https://localhost:8080/"
        },
        "outputId": "003f1ed3-ed98-4860-9302-8f83b45fed93"
      },
      "execution_count": null,
      "outputs": [
        {
          "output_type": "stream",
          "name": "stdout",
          "text": [
            "Enter the number of dice to roll: 45\n",
            "Results of rolling 45 dice: [2, 4, 6, 3, 2, 3, 5, 3, 3, 4, 2, 4, 1, 3, 2, 5, 6, 5, 5, 4, 2, 2, 2, 5, 5, 6, 3, 3, 3, 5, 5, 6, 3, 6, 6, 3, 1, 3, 2, 6, 4, 1, 4, 5, 5]\n",
            "Sum of the rolls: 168\n"
          ]
        }
      ]
    },
    {
      "cell_type": "markdown",
      "source": [
        "# Solution"
      ],
      "metadata": {
        "id": "eGgw4rgGYd6r"
      }
    },
    {
      "cell_type": "code",
      "source": [
        "import random\n",
        "\n",
        "def roll_dice(num_dice=2):\n",
        "  \"\"\"Simulates rolling a specified number of dice.\"\"\"\n",
        "  rolls = []\n",
        "  for _ in range(num_dice):\n",
        "    rolls.append(random.randint(1, 6))\n",
        "  return rolls\n",
        "\n",
        "def main():\n",
        "  \"\"\"Main function to run the dice rolling simulation.\"\"\"\n",
        "  try:\n",
        "    num_dice = int(input(\"Enter the number of dice to roll: \"))\n",
        "    if num_dice <= 0:\n",
        "      print(\"Please enter a positive number of dice.\")\n",
        "      return\n",
        "\n",
        "    results = roll_dice(num_dice)\n",
        "    print(f\"Results of rolling {num_dice} dice: {results}\")\n",
        "    print(f\"Sum of the rolls: {sum(results)}\")\n",
        "\n",
        "    # Check for special conditions\n",
        "    if len(results) == 2 and results[0] == results[1]:\n",
        "      print(\"You rolled doubles!\")\n",
        "    elif sum(results) == 7 or sum(results) == 11:\n",
        "      print(\"You win!\")\n",
        "    elif sum(results) == 2 or sum(results) == 3 or sum(results) == 12:\n",
        "      print(\"You lose!\")\n",
        "\n",
        "  except ValueError:\n",
        "    print(\"Invalid input. Please enter a valid integer.\")\n",
        "\n",
        "if __name__ == \"__main__\":\n",
        "  main()"
      ],
      "metadata": {
        "colab": {
          "base_uri": "https://localhost:8080/"
        },
        "id": "guyWS29aYiHI",
        "outputId": "d4434c3a-b468-4ad6-8358-ce707e238798"
      },
      "execution_count": null,
      "outputs": [
        {
          "output_type": "stream",
          "name": "stdout",
          "text": [
            "Enter the number of dice to roll: 46\n",
            "Results of rolling 46 dice: [5, 3, 4, 4, 5, 3, 4, 4, 1, 1, 2, 5, 6, 6, 2, 2, 4, 1, 4, 5, 4, 5, 6, 5, 1, 2, 6, 6, 5, 5, 1, 3, 2, 6, 4, 2, 4, 5, 1, 1, 3, 1, 1, 6, 6, 4]\n",
            "Sum of the rolls: 166\n"
          ]
        }
      ]
    },
    {
      "cell_type": "markdown",
      "source": [
        "# 06_seconds_in_year.md"
      ],
      "metadata": {
        "id": "YgdKTxYMYzo1"
      }
    },
    {
      "cell_type": "markdown",
      "source": [
        "# Starter Code"
      ],
      "metadata": {
        "id": "h4LFTrb2Y8Dk"
      }
    },
    {
      "cell_type": "code",
      "source": [
        "def seconds_in_year(year):\n",
        "  \"\"\"Calculates the number of seconds in a given year.\n",
        "\n",
        "  Args:\n",
        "    year: An integer representing the year.\n",
        "\n",
        "  Returns:\n",
        "    The number of seconds in the given year.\n",
        "  \"\"\"\n",
        "  if (year % 4 == 0 and year % 100 != 0) or year % 400 == 0:\n",
        "    return 366 * 24 * 60 * 60\n",
        "  else:\n",
        "    return 365 * 24 * 60 * 60\n",
        "\n",
        "# Example usage:\n",
        "year_2024 = seconds_in_year(2024)\n",
        "year_2025 = seconds_in_year(2025)\n",
        "\n",
        "print(f\"Seconds in 2024: {year_2024}\")\n",
        "print(f\"Seconds in 2025: {year_2025}\")"
      ],
      "metadata": {
        "id": "SUMsSlusZGuN",
        "colab": {
          "base_uri": "https://localhost:8080/"
        },
        "outputId": "63c73e89-97c5-4e59-e42c-a32f058550e7"
      },
      "execution_count": null,
      "outputs": [
        {
          "output_type": "stream",
          "name": "stdout",
          "text": [
            "Seconds in 2024: 31622400\n",
            "Seconds in 2025: 31536000\n"
          ]
        }
      ]
    },
    {
      "cell_type": "markdown",
      "source": [
        "# Solution"
      ],
      "metadata": {
        "id": "vR9awi4CZN21"
      }
    },
    {
      "cell_type": "code",
      "source": [
        "def seconds_in_year(year):\n",
        "  \"\"\"Calculates the number of seconds in a given year.\n",
        "\n",
        "  Args:\n",
        "    year: An integer representing the year.\n",
        "\n",
        "  Returns:\n",
        "    The number of seconds in the given year.\n",
        "  \"\"\"\n",
        "  if (year % 4 == 0 and year % 100 != 0) or year % 400 == 0:\n",
        "    return 366 * 24 * 60 * 60\n",
        "  else:\n",
        "    return 365 * 24 * 60 * 60\n",
        "\n",
        "# Example usage:\n",
        "year_2023 = seconds_in_year(2023)\n",
        "year_2024 = seconds_in_year(2024)\n",
        "year_1900 = seconds_in_year(1900)\n",
        "year_2000 = seconds_in_year(2000)\n",
        "\n",
        "print(f\"Seconds in 2023: {year_2023}\")\n",
        "print(f\"Seconds in 2024: {year_2024}\")\n",
        "print(f\"Seconds in 1900: {year_1900}\")\n",
        "print(f\"Seconds in 2000: {year_2000}\")"
      ],
      "metadata": {
        "colab": {
          "base_uri": "https://localhost:8080/"
        },
        "id": "MqEn6oIbZRkF",
        "outputId": "5cfc001c-f200-4989-d9ef-9bde9c924417"
      },
      "execution_count": null,
      "outputs": [
        {
          "output_type": "stream",
          "name": "stdout",
          "text": [
            "Seconds in 2023: 31536000\n",
            "Seconds in 2024: 31622400\n",
            "Seconds in 1900: 31536000\n",
            "Seconds in 2000: 31622400\n"
          ]
        }
      ]
    },
    {
      "cell_type": "markdown",
      "source": [
        "# 07_tiny_mad_lib.md"
      ],
      "metadata": {
        "id": "LnsOiFV7ZmRA"
      }
    },
    {
      "cell_type": "markdown",
      "source": [
        "# Starter Code"
      ],
      "metadata": {
        "id": "sjHdZP5ZZo-A"
      }
    },
    {
      "cell_type": "code",
      "source": [
        "def tiny_mad_lib(adj, noun):\n",
        "  \"\"\"Generates a short mad lib sentence.\n",
        "\n",
        "  Args:\n",
        "    adj: An adjective.\n",
        "    noun: A noun.\n",
        "\n",
        "  Returns:\n",
        "    A string representing the generated mad lib.\n",
        "  \"\"\"\n",
        "  return f\"The {adj} {noun} jumped over the lazy dog.\"\n",
        "\n",
        "# Example usage:\n",
        "result = tiny_mad_lib(\"happy\", \"cat\")\n",
        "print(result)"
      ],
      "metadata": {
        "id": "FNNUi_MvZ3yH",
        "colab": {
          "base_uri": "https://localhost:8080/"
        },
        "outputId": "f35fd36a-82e7-48ae-de4f-f8056ad70bf1"
      },
      "execution_count": null,
      "outputs": [
        {
          "output_type": "stream",
          "name": "stdout",
          "text": [
            "The happy cat jumped over the lazy dog.\n"
          ]
        }
      ]
    },
    {
      "cell_type": "markdown",
      "source": [
        "# Solution"
      ],
      "metadata": {
        "id": "O2gXl8Q1aAQx"
      }
    },
    {
      "cell_type": "code",
      "source": [
        "def tiny_mad_lib(adj, noun):\n",
        "  \"\"\"Generates a short mad lib sentence.\n",
        "\n",
        "  Args:\n",
        "    adj: An adjective.\n",
        "    noun: A noun.\n",
        "\n",
        "  Returns:\n",
        "    A string representing the generated mad lib.\n",
        "  \"\"\"\n",
        "  return f\"The {adj} {noun} jumped over the lazy dog.\"\n",
        "\n",
        "# Example usage:\n",
        "result1 = tiny_mad_lib(\"silly\", \"rabbit\")\n",
        "result2 = tiny_mad_lib(\"giant\", \"hamster\")\n",
        "result3 = tiny_mad_lib(\"tiny\", \"elephant\")\n",
        "\n",
        "print(result1)\n",
        "print(result2)\n",
        "print(result3)"
      ],
      "metadata": {
        "colab": {
          "base_uri": "https://localhost:8080/"
        },
        "id": "2RbsEuPcaJqz",
        "outputId": "fb0ab7b9-e65e-427f-8f74-e0fd5fb01d80"
      },
      "execution_count": null,
      "outputs": [
        {
          "output_type": "stream",
          "name": "stdout",
          "text": [
            "The silly rabbit jumped over the lazy dog.\n",
            "The giant hamster jumped over the lazy dog.\n",
            "The tiny elephant jumped over the lazy dog.\n"
          ]
        }
      ]
    }
  ]
}