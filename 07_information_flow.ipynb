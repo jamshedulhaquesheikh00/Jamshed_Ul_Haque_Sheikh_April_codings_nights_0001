{
  "nbformat": 4,
  "nbformat_minor": 0,
  "metadata": {
    "colab": {
      "provenance": [],
      "authorship_tag": "ABX9TyPU35aOZpMu/rFHqKwTiHn3",
      "include_colab_link": true
    },
    "kernelspec": {
      "name": "python3",
      "display_name": "Python 3"
    },
    "language_info": {
      "name": "python"
    }
  },
  "cells": [
    {
      "cell_type": "markdown",
      "metadata": {
        "id": "view-in-github",
        "colab_type": "text"
      },
      "source": [
        "<a href=\"https://colab.research.google.com/github/jamshedulhaquesheikh00/Jamshed_Ul_Haque_Sheikh_April_codings_nights_0001/blob/main/07_information_flow.ipynb\" target=\"_parent\"><img src=\"https://colab.research.google.com/assets/colab-badge.svg\" alt=\"Open In Colab\"/></a>"
      ]
    },
    {
      "cell_type": "markdown",
      "source": [
        "#00_choosing_returns.md"
      ],
      "metadata": {
        "id": "vMqNosFgZFW-"
      }
    },
    {
      "cell_type": "markdown",
      "source": [
        "# Starter Code"
      ],
      "metadata": {
        "id": "mZ156aLFZOgg"
      }
    },
    {
      "cell_type": "code",
      "source": [
        "# How to return values from a function\n",
        "\n",
        "# A simple function that returns a single value\n",
        "def add_numbers(x, y):\n",
        "  result = x + y\n",
        "  return result\n",
        "\n",
        "# Calling the function and using the return value\n",
        "sum_result = add_numbers(5, 3)\n",
        "print(sum_result)  # Output: 8\n",
        "\n",
        "# A function that returns multiple values (using a tuple)\n",
        "def calculate_area_and_perimeter(length, width):\n",
        "  area = length * width\n",
        "  perimeter = 2 * (length + width)\n",
        "  return area, perimeter\n",
        "\n",
        "# Calling the function and unpacking the return values\n",
        "area_result, perimeter_result = calculate_area_and_perimeter(4, 6)\n",
        "print(\"Area:\", area_result)       # Output: Area: 24\n",
        "print(\"Perimeter:\", perimeter_result)  # Output: Perimeter: 20\n",
        "\n",
        "# A function that returns a dictionary\n",
        "def get_student_info(name, age, grade):\n",
        "  student_info = {\n",
        "      \"name\": name,\n",
        "      \"age\": age,\n",
        "      \"grade\": grade\n",
        "  }\n",
        "  return student_info\n",
        "\n",
        "# Calling the function and accessing values from the dictionary\n",
        "student = get_student_info(\"Ali\", 16, \"A\")\n",
        "print(student[\"name\"])  # Output: Ali\n",
        "print(student[\"age\"])   # Output: 16\n",
        "print(student[\"grade\"]) # Output: A"
      ],
      "metadata": {
        "id": "ZivB7T1uZZjF",
        "colab": {
          "base_uri": "https://localhost:8080/"
        },
        "outputId": "21e869a2-f920-4cd5-a81e-bcdcd7159a12"
      },
      "execution_count": null,
      "outputs": [
        {
          "output_type": "stream",
          "name": "stdout",
          "text": [
            "8\n",
            "Area: 24\n",
            "Perimeter: 20\n",
            "Ali\n",
            "16\n",
            "A\n"
          ]
        }
      ]
    },
    {
      "cell_type": "markdown",
      "source": [
        "# Solution"
      ],
      "metadata": {
        "id": "RCL81mnMZltc"
      }
    },
    {
      "cell_type": "code",
      "source": [
        "def add_numbers(x, y):\n",
        "  result = x + y\n",
        "  return result\n",
        "\n",
        "def calculate_area_and_perimeter(length, width):\n",
        "  area = length * width\n",
        "  perimeter = 2 * (length + width)\n",
        "  return area, perimeter\n",
        "\n",
        "def get_student_info(name, age, grade):\n",
        "  student_info = {\n",
        "    \"name\": name,\n",
        "    \"age\": age,\n",
        "    \"grade\": grade\n",
        "  }\n",
        "  return student_info"
      ],
      "metadata": {
        "id": "GfDOw3VoZpJQ"
      },
      "execution_count": null,
      "outputs": []
    },
    {
      "cell_type": "markdown",
      "source": [
        "# 01_greetings.md"
      ],
      "metadata": {
        "id": "XKF_WyLFZ9em"
      }
    },
    {
      "cell_type": "markdown",
      "source": [
        "# Starter Code"
      ],
      "metadata": {
        "id": "PvFpVkWmZ_ny"
      }
    },
    {
      "cell_type": "code",
      "source": [
        "def main():\n",
        "    print(\"Delete this line and write your code here! :)\")\n",
        "\n",
        "\n",
        "# This provided line is required at the end of\n",
        "# Python file to call the main() function.\n",
        "if __name__ == '__main__':\n",
        "    main()"
      ],
      "metadata": {
        "id": "x7Gh5rIOaGEw"
      },
      "execution_count": null,
      "outputs": []
    },
    {
      "cell_type": "markdown",
      "source": [
        "# Solution"
      ],
      "metadata": {
        "id": "Zav8-5QnaYI5"
      }
    },
    {
      "cell_type": "code",
      "source": [
        "def main():\n",
        "    name : str = input(\"What's your name? \")\n",
        "    print(greet(name))\n",
        "\n",
        "# There is no need to edit code beyond this point\n",
        "\n",
        "def greet(name):\n",
        "    return \"Greetings \" + name + \"!\"\n",
        "\n",
        "if __name__ == '__main__':\n",
        "    main()\n"
      ],
      "metadata": {
        "id": "m4iIaGMladar"
      },
      "execution_count": null,
      "outputs": []
    },
    {
      "cell_type": "markdown",
      "source": [
        "# 02_in_range.md"
      ],
      "metadata": {
        "id": "tnWPpcV4aiJQ"
      }
    },
    {
      "cell_type": "markdown",
      "source": [
        "# Starter Code"
      ],
      "metadata": {
        "id": "uHc-aSBQay6T"
      }
    },
    {
      "cell_type": "code",
      "source": [
        "def main():\n",
        "    print(\"Delete this line and write your code here! :)\")\n",
        "\n",
        "\n",
        "# This provided line is required at the end of\n",
        "# Python file to call the main() function.\n",
        "if __name__ == '__main__':\n",
        "    main()"
      ],
      "metadata": {
        "id": "1TH8Q_X7bmau"
      },
      "execution_count": null,
      "outputs": []
    },
    {
      "cell_type": "markdown",
      "source": [
        "# Solution"
      ],
      "metadata": {
        "id": "_0VlqzcqbtJL"
      }
    },
    {
      "cell_type": "code",
      "source": [
        "def in_range(n, low, high):\n",
        "  \"\"\"\n",
        "  Returns True if n is between low and high, inclusive.\n",
        "  high is guaranteed to be greater than low.\n",
        "  \"\"\"\n",
        "    if n >= low and n <= high:\n",
        "\treturn True\n",
        "\n",
        "    # we could have also included an else statement, but since we are returning, it's fine without!\n",
        "    return False"
      ],
      "metadata": {
        "id": "fqhU3JNRbys8"
      },
      "execution_count": null,
      "outputs": []
    },
    {
      "cell_type": "markdown",
      "source": [
        "# 03_in_stock.md"
      ],
      "metadata": {
        "id": "0foAGIUFcADJ"
      }
    },
    {
      "cell_type": "markdown",
      "source": [
        "# Starter Code"
      ],
      "metadata": {
        "id": "Ug5ME3l-cDa5"
      }
    },
    {
      "cell_type": "code",
      "source": [
        "def main():\n",
        "    print(\"Delete this line and write your code here! :)\")\n",
        "\n",
        "\n",
        "# This provided line is required at the end of\n",
        "# Python file to call the main() function.\n",
        "if __name__ == '__main__':\n",
        "    main()"
      ],
      "metadata": {
        "id": "R8wVwaOwcHRe"
      },
      "execution_count": null,
      "outputs": []
    },
    {
      "cell_type": "markdown",
      "source": [
        "# Solution"
      ],
      "metadata": {
        "id": "VJh6zW6ScM-4"
      }
    },
    {
      "cell_type": "code",
      "source": [
        "def main():\n",
        "\tfruit : str = input(\"Enter a fruit: \")\n",
        "\tstock = num_in_stock(fruit)\n",
        "\tif stock == 0:\n",
        "\t\tprint(\"This fruit is not in stock.\")\n",
        "\telse:\n",
        "\t\tprint(\"This fruit is in stock! Here is how many:\")\n",
        "\t\tprint(stock)\n",
        "\n",
        "# There is no need to edit code beyond this point\n",
        "\n",
        "def num_in_stock(fruit):\n",
        "\t\"\"\"\n",
        "\tThis function returns the number of fruit Sophia has in stock.\n",
        "\t\"\"\"\n",
        "\tif fruit == 'apple':\n",
        "\t\treturn 2\n",
        "\tif fruit == 'durian':\n",
        "\t\treturn 4\n",
        "\tif fruit == 'pear':\n",
        "\t\treturn 1000\n",
        "\telse:\n",
        "\t\t# this fruit is not in stock.\n",
        "\t\treturn 0\n",
        "\n",
        "\n",
        "if __name__ == '__main__':\n",
        "    main()"
      ],
      "metadata": {
        "id": "5kFMNGPLcTi7"
      },
      "execution_count": null,
      "outputs": []
    },
    {
      "cell_type": "markdown",
      "source": [
        "# 04_multiple_returns.md"
      ],
      "metadata": {
        "id": "Viw7eICyccqI"
      }
    },
    {
      "cell_type": "markdown",
      "source": [
        "# Starter Code"
      ],
      "metadata": {
        "id": "enL0G5MZcmgC"
      }
    },
    {
      "cell_type": "code",
      "source": [
        "def main():\n",
        "    print(\"Delete this line and write your code here! :)\")\n",
        "\n",
        "\n",
        "# This provided line is required at the end of\n",
        "# Python file to call the main() function.\n",
        "if __name__ == '__main__':\n",
        "    main()"
      ],
      "metadata": {
        "id": "p8KxunvOdHgF"
      },
      "execution_count": null,
      "outputs": []
    },
    {
      "cell_type": "markdown",
      "source": [
        "# Solution"
      ],
      "metadata": {
        "id": "oQXFsUzSd5OC"
      }
    },
    {
      "cell_type": "code",
      "source": [
        "def get_user_info():\n",
        "    first_name: str = input(\"What is your first name?: \")\n",
        "    last_name: str = input(\"What is your last name?: \")\n",
        "    email_address : str = input(\"What is your email address?: \")\n",
        "\n",
        "    return first_name, last_name, email_address\n",
        "\n",
        "########## No need to edit code past this point :) ##########\n",
        "\n",
        "def main():\n",
        "    user_data = get_user_info()\n",
        "    print(\"Received the following user data:\", user_data)\n",
        "\n",
        "if __name__ == \"__main__\":\n",
        "     main()\n",
        "     ```"
      ],
      "metadata": {
        "id": "UESe_XxVekhd"
      },
      "execution_count": null,
      "outputs": []
    },
    {
      "cell_type": "markdown",
      "source": [
        "# 05_subtract_7.md"
      ],
      "metadata": {
        "id": "0W0PqkaQe0bn"
      }
    },
    {
      "cell_type": "markdown",
      "source": [
        "# Starter Code"
      ],
      "metadata": {
        "id": "ZMUWeuiZe3bN"
      }
    },
    {
      "cell_type": "code",
      "source": [
        "def main():\n",
        "    print(\"Delete this line and write your code here! :)\")\n",
        "\n",
        "\n",
        "# This provided line is required at the end of\n",
        "# Python file to call the main() function.\n",
        "if __name__ == '__main__':\n",
        "    main()"
      ],
      "metadata": {
        "id": "3kHsuT0Qe822"
      },
      "execution_count": null,
      "outputs": []
    },
    {
      "cell_type": "markdown",
      "source": [
        "# Solution"
      ],
      "metadata": {
        "id": "uDL2xAVMfCxN"
      }
    },
    {
      "cell_type": "code",
      "source": [
        "def main():\n",
        "\tnum: int = 7\n",
        "\tnum = subtract_seven(num)\n",
        "\tprint(\"this should be zero: \", num)\n",
        "\n",
        "def subtract_seven(num):\n",
        "\tnum = num - 7\n",
        "\treturn num\n",
        "\n",
        "\n",
        "# There is no need to edit code beyond this point\n",
        "\n",
        "if __name__ == '__main__':\n",
        "    main()"
      ],
      "metadata": {
        "id": "0Ey9Bdg2fGIU"
      },
      "execution_count": null,
      "outputs": []
    }
  ]
}