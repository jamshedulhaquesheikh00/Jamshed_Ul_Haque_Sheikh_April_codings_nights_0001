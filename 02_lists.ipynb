{
  "nbformat": 4,
  "nbformat_minor": 0,
  "metadata": {
    "colab": {
      "provenance": [],
      "authorship_tag": "ABX9TyO8Xks0Dr5vZMZZ3hu+Tdr9",
      "include_colab_link": true
    },
    "kernelspec": {
      "name": "python3",
      "display_name": "Python 3"
    },
    "language_info": {
      "name": "python"
    }
  },
  "cells": [
    {
      "cell_type": "markdown",
      "metadata": {
        "id": "view-in-github",
        "colab_type": "text"
      },
      "source": [
        "<a href=\"https://colab.research.google.com/github/jamshedulhaquesheikh00/Jamshed_Ul_Haque_Sheikh_April_codings_nights_0001/blob/main/02_lists.ipynb\" target=\"_parent\"><img src=\"https://colab.research.google.com/assets/colab-badge.svg\" alt=\"Open In Colab\"/></a>"
      ]
    },
    {
      "cell_type": "markdown",
      "source": [
        "# 01_add_many_number.md"
      ],
      "metadata": {
        "id": "B4FB4kRcjXCV"
      }
    },
    {
      "cell_type": "markdown",
      "source": [
        "# Starter Code"
      ],
      "metadata": {
        "id": "Sst3jH8WjZxW"
      }
    },
    {
      "cell_type": "code",
      "source": [
        "def add_many_numbers(numbers):\n",
        "  \"\"\"Calculates the sum of a list of numbers.\n",
        "\n",
        "  Args:\n",
        "    numbers: A list of numbers.\n",
        "\n",
        "  Returns:\n",
        "    The sum of the numbers in the list.\n",
        "  \"\"\"\n",
        "  # Your code here\n",
        "  pass\n",
        "\n",
        "# Example usage:\n",
        "numbers = [1, 2, 3, 4, 5]\n",
        "sum_of_numbers = add_many_numbers(numbers)\n",
        "print(f\"The sum of the numbers is: {sum_of_numbers}\")"
      ],
      "metadata": {
        "id": "kiQPLtiUjepQ",
        "colab": {
          "base_uri": "https://localhost:8080/"
        },
        "outputId": "61ab16bb-f577-4d43-95d3-347c7ddba833"
      },
      "execution_count": null,
      "outputs": [
        {
          "output_type": "stream",
          "name": "stdout",
          "text": [
            "The sum of the numbers is: None\n"
          ]
        }
      ]
    },
    {
      "cell_type": "markdown",
      "source": [
        "# Solution"
      ],
      "metadata": {
        "id": "jAvokzRcjkxn"
      }
    },
    {
      "cell_type": "code",
      "source": [
        "def add_many_numbers(numbers):\n",
        "  \"\"\"Calculates the sum of a list of numbers.\n",
        "\n",
        "  Args:\n",
        "    numbers: A list of numbers.\n",
        "\n",
        "  Returns:\n",
        "    The sum of the numbers in the list.\n",
        "  \"\"\"\n",
        "  total = 0\n",
        "  for number in numbers:\n",
        "    total += number\n",
        "  return total\n",
        "\n",
        "# Example usage:\n",
        "numbers = [1, 2, 3, 4, 5]\n",
        "sum_of_numbers = add_many_numbers(numbers)\n",
        "print(f\"The sum of the numbers is: {sum_of_numbers}\")\n",
        "\n",
        "numbers2 = [10, 20, 30]\n",
        "sum_of_numbers2 = add_many_numbers(numbers2)\n",
        "print(f\"The sum of the numbers 2 is: {sum_of_numbers2}\")\n",
        "\n",
        "numbers3 = []\n",
        "sum_of_numbers3 = add_many_numbers(numbers3)\n",
        "print(f\"The sum of the numbers 3 is: {sum_of_numbers3}\")"
      ],
      "metadata": {
        "colab": {
          "base_uri": "https://localhost:8080/"
        },
        "id": "fyhWD9fAjory",
        "outputId": "aff5dbc6-3812-49d7-f3b2-eb41988cccc6"
      },
      "execution_count": null,
      "outputs": [
        {
          "output_type": "stream",
          "name": "stdout",
          "text": [
            "The sum of the numbers is: 15\n",
            "The sum of the numbers 2 is: 60\n",
            "The sum of the numbers 3 is: 0\n"
          ]
        }
      ]
    },
    {
      "cell_type": "markdown",
      "source": [
        "# 02_double_list.md\n"
      ],
      "metadata": {
        "id": "YCoGVu7OjxSE"
      }
    },
    {
      "cell_type": "markdown",
      "source": [
        "# Starter Code"
      ],
      "metadata": {
        "id": "noUYEzKGj5N8"
      }
    },
    {
      "cell_type": "code",
      "source": [
        "def double_list(numbers):\n",
        "  \"\"\"Doubles each number in a list.\n",
        "\n",
        "  Args:\n",
        "    numbers: A list of numbers.\n",
        "\n",
        "  Returns:\n",
        "    A new list with each number doubled.\n",
        "  \"\"\"\n",
        "  # Your code here\n",
        "  pass\n",
        "\n",
        "# Example usage:\n",
        "numbers = [1, 2, 3, 4, 5]\n",
        "doubled_numbers = double_list(numbers)\n",
        "print(f\"The doubled numbers are: {doubled_numbers}\")"
      ],
      "metadata": {
        "id": "rLJwU6Rj0WZT",
        "colab": {
          "base_uri": "https://localhost:8080/"
        },
        "outputId": "661cd39b-e137-4842-ca6f-7ae17f76d3ff"
      },
      "execution_count": null,
      "outputs": [
        {
          "output_type": "stream",
          "name": "stdout",
          "text": [
            "The doubled numbers are: None\n"
          ]
        }
      ]
    },
    {
      "cell_type": "markdown",
      "source": [
        "# Solution"
      ],
      "metadata": {
        "id": "_PcIQrzm2MxV"
      }
    },
    {
      "cell_type": "code",
      "source": [
        "def double_list(numbers):\n",
        "  \"\"\"Doubles each number in a list.\n",
        "\n",
        "  Args:\n",
        "    numbers: A list of numbers.\n",
        "\n",
        "  Returns:\n",
        "    A new list with each number doubled.\n",
        "  \"\"\"\n",
        "  doubled_numbers = []\n",
        "  for number in numbers:\n",
        "    doubled_numbers.append(number * 2)\n",
        "  return doubled_numbers\n",
        "\n",
        "# Example usage:\n",
        "numbers = [1, 2, 3, 4, 5]\n",
        "doubled_numbers = double_list(numbers)\n",
        "print(f\"The doubled numbers are: {doubled_numbers}\")\n",
        "\n",
        "numbers2 = [10, 20, 30]\n",
        "doubled_numbers2 = double_list(numbers2)\n",
        "print(f\"The doubled numbers are: {doubled_numbers2}\")\n",
        "\n",
        "numbers3 = []\n",
        "doubled_numbers3 = double_list(numbers3)\n",
        "print(f\"The doubled numbers are: {doubled_numbers3}\")"
      ],
      "metadata": {
        "id": "4nn0trpZ2Qc8",
        "colab": {
          "base_uri": "https://localhost:8080/"
        },
        "outputId": "4d223f95-37e9-43dd-b800-0159f6c575f6"
      },
      "execution_count": null,
      "outputs": [
        {
          "output_type": "stream",
          "name": "stdout",
          "text": [
            "The doubled numbers are: [2, 4, 6, 8, 10]\n",
            "The doubled numbers are: [20, 40, 60]\n",
            "The doubled numbers are: []\n"
          ]
        }
      ]
    },
    {
      "cell_type": "markdown",
      "source": [
        "# 03_erase_canvas.md"
      ],
      "metadata": {
        "id": "ZWMvh1P6zLq7"
      }
    },
    {
      "cell_type": "markdown",
      "source": [
        "# Starter Code"
      ],
      "metadata": {
        "id": "eQHIs8QbzU0D"
      }
    },
    {
      "cell_type": "code",
      "source": [
        "def erase_canvas(canvas):\n",
        "  \"\"\"Erases the canvas by setting all elements to 0.\n",
        "\n",
        "  Args:\n",
        "    canvas: A 2D list representing the canvas.\n",
        "\n",
        "  Returns:\n",
        "    The erased canvas (modified in-place).\n",
        "  \"\"\"\n",
        "  # Your code here\n",
        "  pass\n",
        "\n",
        "# Example usage:\n",
        "canvas = [[1, 2, 3], [4, 5, 6], [7, 8, 9]]\n",
        "erased_canvas = erase_canvas(canvas)\n",
        "print(f\"Erased canvas: {erased_canvas}\")"
      ],
      "metadata": {
        "id": "FLXOIR0EzZ3-",
        "colab": {
          "base_uri": "https://localhost:8080/"
        },
        "outputId": "f25e91bb-ef71-4c55-9f04-a2dbdf541a44"
      },
      "execution_count": null,
      "outputs": [
        {
          "output_type": "stream",
          "name": "stdout",
          "text": [
            "Erased canvas: None\n"
          ]
        }
      ]
    },
    {
      "cell_type": "markdown",
      "source": [
        "# Solution"
      ],
      "metadata": {
        "id": "BOycttP0Ijow"
      }
    },
    {
      "cell_type": "code",
      "source": [
        "def erase_canvas(canvas):\n",
        "  \"\"\"Erases the canvas by setting all elements to 0.\n",
        "\n",
        "  Args:\n",
        "    canvas: A 2D list representing the canvas.\n",
        "\n",
        "  Returns:\n",
        "    The erased canvas (modified in-place).\n",
        "  \"\"\"\n",
        "  for row in range(len(canvas)):\n",
        "    for col in range(len(canvas[row])):\n",
        "      canvas[row][col] = 0\n",
        "  return canvas\n",
        "\n",
        "# Example usage:\n",
        "canvas = [[1, 2, 3], [4, 5, 6], [7, 8, 9]]\n",
        "erased_canvas = erase_canvas(canvas)\n",
        "print(f\"Erased canvas: {erased_canvas}\")\n",
        "\n",
        "canvas2 = [[10, 20], [30, 40], [50, 60]]\n",
        "erased_canvas2 = erase_canvas(canvas2)\n",
        "print(f\"Erased canvas 2: {erased_canvas2}\")\n",
        "\n",
        "canvas3 = [[]]\n",
        "erased_canvas3 = erase_canvas(canvas3)\n",
        "print(f\"Erased canvas 3: {erased_canvas3}\")"
      ],
      "metadata": {
        "colab": {
          "base_uri": "https://localhost:8080/"
        },
        "id": "PkgKeoPJIoRc",
        "outputId": "bbca0ea1-3585-44ab-8657-d8e189fb52aa"
      },
      "execution_count": null,
      "outputs": [
        {
          "output_type": "stream",
          "name": "stdout",
          "text": [
            "Erased canvas: [[0, 0, 0], [0, 0, 0], [0, 0, 0]]\n",
            "Erased canvas 2: [[0, 0], [0, 0], [0, 0]]\n",
            "Erased canvas 3: [[]]\n"
          ]
        }
      ]
    },
    {
      "cell_type": "markdown",
      "source": [
        "# 04_flowing_with_data_structures.md"
      ],
      "metadata": {
        "id": "tswwuJiMaM1Q"
      }
    },
    {
      "cell_type": "markdown",
      "source": [
        "# Starter Code"
      ],
      "metadata": {
        "id": "Jj0-sKPiaYQ4"
      }
    },
    {
      "cell_type": "code",
      "source": [
        "def flowing_with_data_structures(data):\n",
        "  \"\"\"Demonstrates the use of different data structures.\n",
        "\n",
        "  Args:\n",
        "    data: A dictionary containing various data structures.\n",
        "\n",
        "  Returns:\n",
        "    A tuple containing the first element of the list, the first value of the\n",
        "    dictionary, and the first element of the set.\n",
        "  \"\"\"\n",
        "  # Your code here\n",
        "  pass\n",
        "\n",
        "# Example usage:\n",
        "data = {\n",
        "    \"list\": [1, 2, 3],\n",
        "    \"dict\": {\"a\": 1, \"b\": 3},\n",
        "    \"set\": {4, 5, 6}\n",
        "}\n",
        "result = flowing_with_data_structures(data)\n",
        "print(f\"Result: {result}\")"
      ],
      "metadata": {
        "id": "ehxmrCqMaddq",
        "colab": {
          "base_uri": "https://localhost:8080/"
        },
        "outputId": "c0ed2848-ed09-4e7a-dfa3-184db1779939"
      },
      "execution_count": null,
      "outputs": [
        {
          "output_type": "stream",
          "name": "stdout",
          "text": [
            "Result: None\n"
          ]
        }
      ]
    },
    {
      "cell_type": "markdown",
      "source": [
        "# Solution"
      ],
      "metadata": {
        "id": "jBQcC_frcZww"
      }
    },
    {
      "cell_type": "code",
      "source": [
        "def flowing_with_data_structures(data):\n",
        "  \"\"\"Demonstrates the use of different data structures.\n",
        "\n",
        "  Args:\n",
        "    data: A dictionary containing various data structures.\n",
        "\n",
        "  Returns:\n",
        "    A tuple containing the first element of the list, the first value of the\n",
        "    dictionary, and the first element of the set.\n",
        "  \"\"\"\n",
        "  list_first = data[\"list\"][0]\n",
        "  dict_first_value = list(data[\"dict\"].values())[0]\n",
        "  set_first = next(iter(data[\"set\"]))\n",
        "  return (list_first, dict_first_value, set_first)\n",
        "\n",
        "# Example usage:\n",
        "data = {\n",
        "    \"list\": [1, 2, 3],\n",
        "    \"dict\": {\"a\": 1, \"b\": 2},\n",
        "    \"set\": {4, 5, 6}\n",
        "}\n",
        "result = flowing_with_data_structures(data)\n",
        "print(f\"Result: {result}\")\n",
        "\n",
        "data2 = {\n",
        "    \"list\": [10, 20, 30],\n",
        "    \"dict\": {\"x\": 100, \"y\": 200},\n",
        "    \"set\": {7, 8, 9}\n",
        "}\n",
        "result2 = flowing_with_data_structures(data2)\n",
        "print(f\"Result 2: {result2}\")\n",
        "\n",
        "data3 = {\n",
        "    \"list\": [-1, -2, -3],\n",
        "    \"dict\": {\"first\": -10, \"second\": -20},\n",
        "    \"set\": {-4, -5, -6}\n",
        "}\n",
        "result3 = flowing_with_data_structures(data3)\n",
        "print(f\"Result 3: {result3}\")"
      ],
      "metadata": {
        "colab": {
          "base_uri": "https://localhost:8080/"
        },
        "id": "HpEbgPVJcexv",
        "outputId": "fafd4162-7287-4cbc-9cfc-52e31aa0aab7"
      },
      "execution_count": null,
      "outputs": [
        {
          "output_type": "stream",
          "name": "stdout",
          "text": [
            "Result: (1, 1, 4)\n",
            "Result 2: (10, 100, 8)\n",
            "Result 3: (-1, -10, -6)\n"
          ]
        }
      ]
    },
    {
      "cell_type": "markdown",
      "source": [],
      "metadata": {
        "id": "Z6px8lE3nqOJ"
      }
    },
    {
      "cell_type": "markdown",
      "source": [
        "# 06_get_last_element.md"
      ],
      "metadata": {
        "id": "CJ45a0PunkVr"
      }
    },
    {
      "cell_type": "markdown",
      "source": [
        "# Starter Code"
      ],
      "metadata": {
        "id": "a2nio3EMntA1"
      }
    },
    {
      "cell_type": "code",
      "source": [
        "def get_last_element(input_list):\n",
        "  \"\"\"\n",
        "  Returns the last element of a list.\n",
        "\n",
        "  Args:\n",
        "    input_list: A list.\n",
        "\n",
        "  Returns:\n",
        "    The last element of the list, or None if the list is empty.\n",
        "  \"\"\"\n",
        "  # Your code here\n",
        "  pass\n",
        "\n",
        "# Example usage:\n",
        "my_list = [1, 2, 3, 4, 5]\n",
        "last_element = get_last_element(my_list)\n",
        "print(f\"The last element is: {last_element}\")"
      ],
      "metadata": {
        "id": "8SbgOoihnz0w",
        "colab": {
          "base_uri": "https://localhost:8080/"
        },
        "outputId": "bc6b087a-3683-49ef-c651-449ffebb9f9e"
      },
      "execution_count": null,
      "outputs": [
        {
          "output_type": "stream",
          "name": "stdout",
          "text": [
            "The last element is: None\n"
          ]
        }
      ]
    },
    {
      "cell_type": "markdown",
      "source": [
        "# Solution"
      ],
      "metadata": {
        "id": "ThQolOlkYrup"
      }
    },
    {
      "cell_type": "code",
      "source": [
        "def get_last_element(input_list):\n",
        "  \"\"\"\n",
        "  Returns the last element of a list.\n",
        "\n",
        "  Args:\n",
        "    input_list: A list.\n",
        "\n",
        "  Returns:\n",
        "    The last element of the list, or None if the list is empty.\n",
        "  \"\"\"\n",
        "  if not input_list:\n",
        "    return None\n",
        "  else:\n",
        "    return input_list[-1]\n",
        "\n",
        "# Example usage:\n",
        "my_list = [1, 2, 3, 4, 5]\n",
        "last_element = get_last_element(my_list)\n",
        "print(f\"The last element is: {last_element}\")\n",
        "\n",
        "empty_list = []\n",
        "last_element_empty = get_last_element(empty_list)\n",
        "print(f\"The last element of an empty list is: {last_element_empty}\")\n",
        "\n",
        "another_list = ['a', 'b', 'c']\n",
        "last_element_another = get_last_element(another_list)\n",
        "print(f\"The last element is: {last_element_another}\")"
      ],
      "metadata": {
        "colab": {
          "base_uri": "https://localhost:8080/"
        },
        "id": "3MliB5YVY3p9",
        "outputId": "9ad30f10-e983-4821-9d8a-6a82ccd0040f"
      },
      "execution_count": null,
      "outputs": [
        {
          "output_type": "stream",
          "name": "stdout",
          "text": [
            "The last element is: 5\n",
            "The last element of an empty list is: None\n",
            "The last element is: c\n"
          ]
        }
      ]
    },
    {
      "cell_type": "markdown",
      "source": [
        "# 07_get_list.md"
      ],
      "metadata": {
        "id": "vNo5CZqGaAnG"
      }
    },
    {
      "cell_type": "markdown",
      "source": [
        "# Starter Code"
      ],
      "metadata": {
        "id": "DfHHZdXWaJRR"
      }
    },
    {
      "cell_type": "code",
      "source": [
        "def main():\n",
        "    my_list = [1, 2, 3, 4, 5]\n",
        "    for element in my_list:\n",
        "        print(element)\n",
        "\n",
        "if __name__ == '__main__':\n",
        "    main()"
      ],
      "metadata": {
        "colab": {
          "base_uri": "https://localhost:8080/"
        },
        "id": "dhiEiRu3aPMe",
        "outputId": "57c38624-9132-43be-c0dd-24bd5f117c74"
      },
      "execution_count": null,
      "outputs": [
        {
          "output_type": "stream",
          "name": "stdout",
          "text": [
            "1\n",
            "2\n",
            "3\n",
            "4\n",
            "5\n"
          ]
        }
      ]
    },
    {
      "cell_type": "markdown",
      "source": [
        "# Solution"
      ],
      "metadata": {
        "id": "o0YLRuvnbJAV"
      }
    },
    {
      "cell_type": "code",
      "source": [
        "def main():\n",
        "    lst = []  # Make an empty list to store things in\n",
        "\n",
        "    val = input(\"Enter a value: \")  # Get an initial value\n",
        "    while val:  # While the user input isn't an empty value\n",
        "        lst.append(val) # Add val to list\n",
        "        val = input(\"Enter a value: \")  # Get the next value to add\n",
        "\n",
        "    print(\"Here's the list:\", lst)\n",
        "\n",
        "\n",
        "# There is no need to edit code beyond this point\n",
        "\n",
        "if __name__ == '__main__':\n",
        "    main()"
      ],
      "metadata": {
        "id": "iY4zKuHSbMRa"
      },
      "execution_count": null,
      "outputs": []
    },
    {
      "cell_type": "markdown",
      "source": [
        "# 08_shorten.md"
      ],
      "metadata": {
        "id": "qWs3664_b5N4"
      }
    },
    {
      "cell_type": "markdown",
      "source": [
        "# Starter Code"
      ],
      "metadata": {
        "id": "dMo55sH0cBLI"
      }
    },
    {
      "cell_type": "code",
      "source": [
        "def main():\n",
        "    my_list = [1, 2, 3, 4, 5, 6, 7, 8, 9, 10]\n",
        "    short_list = my_list[:3]\n",
        "    for element in short_list:\n",
        "        print(element)\n",
        "\n",
        "if __name__ == '__main__':\n",
        "    main()"
      ],
      "metadata": {
        "id": "gH_Uo8DrcHet"
      },
      "execution_count": null,
      "outputs": []
    },
    {
      "cell_type": "markdown",
      "source": [
        "# Solution"
      ],
      "metadata": {
        "id": "tIe51iucdfHw"
      }
    },
    {
      "cell_type": "code",
      "source": [
        "MAX_LENGTH : int = 3\n",
        "\n",
        "def shorten(lst):\n",
        "    while len(lst) > MAX_LENGTH:\n",
        "        last_elem = lst.pop()\n",
        "        print(last_elem)\n",
        "\n",
        "# There is no need to edit code beyond this point\n",
        "\n",
        "def get_lst():\n",
        "    \"\"\"\n",
        "    Prompts the user to enter one element of the list at a time and returns the resulting list.\n",
        "    \"\"\"\n",
        "    lst = []\n",
        "    elem = input(\"Please enter an element of the list or press enter to stop. \")\n",
        "    while elem != \"\":\n",
        "        lst.append(elem)\n",
        "        elem = input(\"Please enter an element of the list or press enter to stop. \")\n",
        "    return lst\n",
        "\n",
        "def main():\n",
        "    lst = get_lst()\n",
        "    shorten(lst)\n",
        "\n",
        "\n",
        "if __name__ == '__main__':\n",
        "    main()"
      ],
      "metadata": {
        "id": "DYE1U6UKdiPn"
      },
      "execution_count": null,
      "outputs": []
    }
  ]
}