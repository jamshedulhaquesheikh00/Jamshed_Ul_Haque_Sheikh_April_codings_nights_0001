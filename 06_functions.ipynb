{
  "nbformat": 4,
  "nbformat_minor": 0,
  "metadata": {
    "colab": {
      "provenance": [],
      "authorship_tag": "ABX9TyOhs38ogkQf98fOgOetm7Mh",
      "include_colab_link": true
    },
    "kernelspec": {
      "name": "python3",
      "display_name": "Python 3"
    },
    "language_info": {
      "name": "python"
    }
  },
  "cells": [
    {
      "cell_type": "markdown",
      "metadata": {
        "id": "view-in-github",
        "colab_type": "text"
      },
      "source": [
        "<a href=\"https://colab.research.google.com/github/jamshedulhaquesheikh00/Jamshed_Ul_Haque_Sheikh_April_codings_nights_0001/blob/main/06_functions.ipynb\" target=\"_parent\"><img src=\"https://colab.research.google.com/assets/colab-badge.svg\" alt=\"Open In Colab\"/></a>"
      ]
    },
    {
      "cell_type": "markdown",
      "source": [
        "# 00_averages.md"
      ],
      "metadata": {
        "id": "ND21IITiHtBV"
      }
    },
    {
      "cell_type": "markdown",
      "source": [
        "# Starter Code"
      ],
      "metadata": {
        "id": "KO9x9UQGHxb3"
      }
    },
    {
      "cell_type": "code",
      "source": [
        "# Calculating Averages\n",
        "\n",
        "This file is a starting point for exploring different ways to calculate averages in Python.\n",
        "\n",
        "## Simple Average\n",
        "\n",
        "The most basic way to calculate an average is by summing all the numbers in a dataset and dividing by the total count of numbers.\n",
        "python\n",
        "numbers = [1, 2, 3, 4, 5]\n",
        "average = sum(numbers) / len(numbers)\n",
        "print(f\"The simple average is: {average}\")"
      ],
      "metadata": {
        "id": "z1iWR9krJauX",
        "colab": {
          "base_uri": "https://localhost:8080/",
          "height": 106
        },
        "outputId": "c5ae6892-a3ff-4b30-9a4b-4390a62fe015"
      },
      "execution_count": null,
      "outputs": [
        {
          "output_type": "error",
          "ename": "SyntaxError",
          "evalue": "invalid syntax (<ipython-input-2-bf7709834400>, line 3)",
          "traceback": [
            "\u001b[0;36m  File \u001b[0;32m\"<ipython-input-2-bf7709834400>\"\u001b[0;36m, line \u001b[0;32m3\u001b[0m\n\u001b[0;31m    This file is a starting point for exploring different ways to calculate averages in Python.\u001b[0m\n\u001b[0m         ^\u001b[0m\n\u001b[0;31mSyntaxError\u001b[0m\u001b[0;31m:\u001b[0m invalid syntax\n"
          ]
        }
      ]
    },
    {
      "cell_type": "markdown",
      "source": [
        "# Solution"
      ],
      "metadata": {
        "id": "UdnDwd_9JeAh"
      }
    },
    {
      "cell_type": "code",
      "source": [
        "def average(a: float, b: float):\n",
        "    \"\"\"\n",
        "    Returns the number which is half way between a and b\n",
        "    \"\"\"\n",
        "    sum = a + b\n",
        "    return sum / 2\n",
        "\n",
        "def main():\n",
        "    avg_1 = average(0, 10)\n",
        "    avg_2 = average(8, 10)\n",
        "\n",
        "    final = average(avg_1, avg_2)\n",
        "    print(\"avg_1\", avg_1)\n",
        "    print(\"avg_2\", avg_2)\n",
        "    print(\"final\", final)\n",
        "\n",
        "\n",
        "# There is no need to edit code beyond this point\n",
        "\n",
        "if __name__ == '__main__':\n",
        "    main()"
      ],
      "metadata": {
        "colab": {
          "base_uri": "https://localhost:8080/"
        },
        "id": "pqfr1reCJhT1",
        "outputId": "cb3a14fe-5b98-40fd-d769-ef8657176fa0"
      },
      "execution_count": null,
      "outputs": [
        {
          "output_type": "stream",
          "name": "stdout",
          "text": [
            "avg_1 5.0\n",
            "avg_2 9.0\n",
            "final 7.0\n"
          ]
        }
      ]
    },
    {
      "cell_type": "markdown",
      "source": [
        "# 01_chaotic_counting.md"
      ],
      "metadata": {
        "id": "U_KWsCY2JzUL"
      }
    },
    {
      "cell_type": "markdown",
      "source": [
        "# Starter Code"
      ],
      "metadata": {
        "id": "KhePJfjfJ08a"
      }
    },
    {
      "cell_type": "code",
      "source": [
        "def chaotic_counting(n):\n",
        "    \"\"\"Counts from 1 to n with a chaotic twist.\"\"\"\n",
        "    import random\n",
        "    count = 1\n",
        "    while count <= n:\n",
        "        print(count)\n",
        "        count += random.randint(1, 3)\n",
        "\n",
        "# Example usage:\n",
        "chaotic_counting(10)"
      ],
      "metadata": {
        "id": "OBYFnPlLJ5yy",
        "colab": {
          "base_uri": "https://localhost:8080/"
        },
        "outputId": "aedc2337-9453-4121-f0d5-a517ea0b03f6"
      },
      "execution_count": null,
      "outputs": [
        {
          "output_type": "stream",
          "name": "stdout",
          "text": [
            "1\n",
            "4\n",
            "7\n",
            "10\n"
          ]
        }
      ]
    },
    {
      "cell_type": "markdown",
      "source": [
        "# Solution"
      ],
      "metadata": {
        "id": "Qus2WtBqJ-lm"
      }
    },
    {
      "cell_type": "code",
      "source": [
        "def chaotic_counting(n):\n",
        "    \"\"\"Counts from 1 to n with a chaotic twist.\"\"\"\n",
        "    import random\n",
        "    count = 1\n",
        "    while count <= n:\n",
        "        print(count)\n",
        "        count += random.randint(1, 3)\n",
        "\n",
        "# Example usage:\n",
        "chaotic_counting(10)"
      ],
      "metadata": {
        "colab": {
          "base_uri": "https://localhost:8080/"
        },
        "id": "jPnKaj_fKBn8",
        "outputId": "25fda43c-3b64-4ddd-df6a-e4e17c592614"
      },
      "execution_count": null,
      "outputs": [
        {
          "output_type": "stream",
          "name": "stdout",
          "text": [
            "1\n",
            "4\n",
            "5\n",
            "7\n",
            "10\n"
          ]
        }
      ]
    },
    {
      "cell_type": "markdown",
      "source": [
        "# 02_count_even.md"
      ],
      "metadata": {
        "id": "Fmz5sC6uK1-c"
      }
    },
    {
      "cell_type": "markdown",
      "source": [
        "# Starter Code"
      ],
      "metadata": {
        "id": "srm0HaFkK7pX"
      }
    },
    {
      "cell_type": "code",
      "source": [
        "def count_even(numbers):\n",
        "  \"\"\"\n",
        "  Counts the number of even numbers in a list.\n",
        "\n",
        "  Args:\n",
        "    numbers: A list of integers.\n",
        "\n",
        "  Returns:\n",
        "    The number of even integers in the list.\n",
        "  \"\"\"\n",
        "  count = 0\n",
        "  # Your code here\n",
        "  return count\n",
        "\n",
        "# Example usage:\n",
        "numbers1 = [1, 2, 3, 4, 5, 6, 7, 8, 9, 10]\n",
        "even_count1 = count_even(numbers1)\n",
        "print(f\"Number of even numbers in {numbers1}: {even_count1}\")\n",
        "\n",
        "numbers2 = [11, 13, 15, 17, 19]\n",
        "even_count2 = count_even(numbers2)\n",
        "print(f\"Number of even numbers in {numbers2}: {even_count2}\")\n",
        "\n",
        "numbers3 = [2, 4, 6, 8, 10]\n",
        "even_count3 = count_even(numbers3)\n",
        "print(f\"Number of even numbers in {numbers3}: {even_count3}\")\n",
        "\n",
        "numbers4 = []\n",
        "even_count4 = count_even(numbers4)\n",
        "print(f\"Number of even numbers in {numbers4}: {even_count4}\")"
      ],
      "metadata": {
        "id": "CPaA12sWLBJ5",
        "colab": {
          "base_uri": "https://localhost:8080/"
        },
        "outputId": "20b04219-b6a2-495d-e7a1-472a1581fc1d"
      },
      "execution_count": null,
      "outputs": [
        {
          "output_type": "stream",
          "name": "stdout",
          "text": [
            "Number of even numbers in [1, 2, 3, 4, 5, 6, 7, 8, 9, 10]: 0\n",
            "Number of even numbers in [11, 13, 15, 17, 19]: 0\n",
            "Number of even numbers in [2, 4, 6, 8, 10]: 0\n",
            "Number of even numbers in []: 0\n"
          ]
        }
      ]
    },
    {
      "cell_type": "markdown",
      "source": [
        "# Solution"
      ],
      "metadata": {
        "id": "NTKthDPpLFwR"
      }
    },
    {
      "cell_type": "code",
      "source": [
        "def count_even(numbers):\n",
        "  \"\"\"\n",
        "  Counts the number of even numbers in a list.\n",
        "\n",
        "  Args:\n",
        "    numbers: A list of integers.\n",
        "\n",
        "  Returns:\n",
        "    The number of even integers in the list.\n",
        "  \"\"\"\n",
        "  count = 0\n",
        "  for number in numbers:\n",
        "    if number % 2 == 0:\n",
        "      count += 1\n",
        "  return count\n",
        "\n",
        "# Example usage:\n",
        "numbers1 = [1, 2, 3, 4, 5, 6, 7, 8, 9, 10]\n",
        "even_count1 = count_even(numbers1)\n",
        "print(f\"Number of even numbers in {numbers1}: {even_count1}\")\n",
        "\n",
        "numbers2 = [11, 13, 15, 17, 19]\n",
        "even_count2 = count_even(numbers2)\n",
        "print(f\"Number of even numbers in {numbers2}: {even_count2}\")\n",
        "\n",
        "numbers3 = [2, 4, 6, 8, 10]\n",
        "even_count3 = count_even(numbers3)\n",
        "print(f\"Number of even numbers in {numbers3}: {even_count3}\")\n",
        "\n",
        "numbers4 = []\n",
        "even_count4 = count_even(numbers4)\n",
        "print(f\"Number of even numbers in {numbers4}: {even_count4}\")"
      ],
      "metadata": {
        "colab": {
          "base_uri": "https://localhost:8080/"
        },
        "id": "fTASFz80LJnZ",
        "outputId": "ab9d1442-d8bf-450d-a37b-b4bbd0b4e995"
      },
      "execution_count": null,
      "outputs": [
        {
          "output_type": "stream",
          "name": "stdout",
          "text": [
            "Number of even numbers in [1, 2, 3, 4, 5, 6, 7, 8, 9, 10]: 5\n",
            "Number of even numbers in [11, 13, 15, 17, 19]: 0\n",
            "Number of even numbers in [2, 4, 6, 8, 10]: 5\n",
            "Number of even numbers in []: 0\n"
          ]
        }
      ]
    },
    {
      "cell_type": "markdown",
      "source": [
        "# 04_double.md"
      ],
      "metadata": {
        "id": "aYqeACyyLfwQ"
      }
    },
    {
      "cell_type": "markdown",
      "source": [
        "# Starter Code"
      ],
      "metadata": {
        "id": "oWdika83Lh5n"
      }
    },
    {
      "cell_type": "code",
      "source": [
        "def double_list(numbers):\n",
        "  \"\"\"\n",
        "  Doubles each number in a list.\n",
        "\n",
        "  Args:\n",
        "    numbers: A list of integers.\n",
        "\n",
        "  Returns:\n",
        "    A new list where each number in the original list is doubled.\n",
        "  \"\"\"\n",
        "  doubled_numbers = []\n",
        "  # Your code here\n",
        "  return doubled_numbers\n",
        "\n",
        "# Example usage:\n",
        "list1 = [1, 2, 3, 4, 5]\n",
        "doubled_list1 = double_list(list1)\n",
        "print(f\"Original list: {list1}\")\n",
        "print(f\"Doubled list: {doubled_list1}\")\n",
        "\n",
        "list2 = [-1, 0, 5, -10]\n",
        "doubled_list2 = double_list(list2)\n",
        "print(f\"Original list: {list2}\")\n",
        "print(f\"Doubled list: {doubled_list2}\")\n",
        "\n",
        "list3 = []\n",
        "doubled_list3 = double_list(list3)\n",
        "print(f\"Original list: {list3}\")\n",
        "print(f\"Doubled list: {doubled_list3}\")"
      ],
      "metadata": {
        "id": "HdSCTj4nLl_X",
        "colab": {
          "base_uri": "https://localhost:8080/"
        },
        "outputId": "72550ef7-3f8a-4686-8d1c-813cd2ed6c0f"
      },
      "execution_count": null,
      "outputs": [
        {
          "output_type": "stream",
          "name": "stdout",
          "text": [
            "Original list: [1, 2, 3, 4, 5]\n",
            "Doubled list: []\n",
            "Original list: [-1, 0, 5, -10]\n",
            "Doubled list: []\n",
            "Original list: []\n",
            "Doubled list: []\n"
          ]
        }
      ]
    },
    {
      "cell_type": "markdown",
      "source": [
        "# Solution"
      ],
      "metadata": {
        "id": "MwJtVVsQL7SD"
      }
    },
    {
      "cell_type": "code",
      "source": [
        "def double_list(numbers):\n",
        "  \"\"\"\n",
        "  Doubles each number in a list.\n",
        "\n",
        "  Args:\n",
        "    numbers: A list of integers.\n",
        "\n",
        "  Returns:\n",
        "    A new list where each number in the original list is doubled.\n",
        "  \"\"\"\n",
        "  doubled_numbers = []\n",
        "  for number in numbers:\n",
        "    doubled_numbers.append(number * 2)\n",
        "  return doubled_numbers\n",
        "\n",
        "# Example usage:\n",
        "list1 = [1, 2, 3, 4, 5]\n",
        "doubled_list1 = double_list(list1)\n",
        "print(f\"Original list: {list1}\")\n",
        "print(f\"Doubled list: {doubled_list1}\")\n",
        "\n",
        "list2 = [-1, 0, 5, -10]\n",
        "doubled_list2 = double_list(list2)\n",
        "print(f\"Original list: {list2}\")\n",
        "print(f\"Doubled list: {doubled_list2}\")\n",
        "\n",
        "list3 = []\n",
        "doubled_list3 = double_list(list3)\n",
        "print(f\"Original list: {list3}\")\n",
        "print(f\"Doubled list: {doubled_list3}\")"
      ],
      "metadata": {
        "colab": {
          "base_uri": "https://localhost:8080/"
        },
        "id": "vb_VOkKJL_Cy",
        "outputId": "08804a5b-75ed-4609-931f-d4d94150e1d2"
      },
      "execution_count": null,
      "outputs": [
        {
          "output_type": "stream",
          "name": "stdout",
          "text": [
            "Original list: [1, 2, 3, 4, 5]\n",
            "Doubled list: [2, 4, 6, 8, 10]\n",
            "Original list: [-1, 0, 5, -10]\n",
            "Doubled list: [-2, 0, 10, -20]\n",
            "Original list: []\n",
            "Doubled list: []\n"
          ]
        }
      ]
    },
    {
      "cell_type": "markdown",
      "source": [
        "# 05_get_name.md"
      ],
      "metadata": {
        "id": "rUTUnyM8Mzho"
      }
    },
    {
      "cell_type": "markdown",
      "source": [
        "# Starter Code"
      ],
      "metadata": {
        "id": "zE-Usc53M2hM"
      }
    },
    {
      "cell_type": "code",
      "source": [
        "def get_name():\n",
        "  \"\"\"\n",
        "  Prompts the user to enter their name and returns it.\n",
        "\n",
        "  Returns:\n",
        "    A string containing the user's name.\n",
        "  \"\"\"\n",
        "  name = \"\"\n",
        "  # Your code here to get input from the user\n",
        "  return name\n",
        "\n",
        "# Example usage:\n",
        "user_name = get_name()\n",
        "if user_name:\n",
        "  print(f\"Hello, {user_name}!\")\n",
        "else:\n",
        "  print(\"No name was entered.\")"
      ],
      "metadata": {
        "id": "P4mrKrCKM_Rw",
        "colab": {
          "base_uri": "https://localhost:8080/"
        },
        "outputId": "11cc86ea-de9c-42a0-f70a-cbe56e8a23a2"
      },
      "execution_count": null,
      "outputs": [
        {
          "output_type": "stream",
          "name": "stdout",
          "text": [
            "No name was entered.\n"
          ]
        }
      ]
    },
    {
      "cell_type": "markdown",
      "source": [
        "# Solution"
      ],
      "metadata": {
        "id": "jirzeTxTPMqN"
      }
    },
    {
      "cell_type": "code",
      "source": [
        "def get_name():\n",
        "  \"\"\"\n",
        "  Prompts the user to enter their name and returns it.\n",
        "\n",
        "  Returns:\n",
        "    A string containing the user's name.\n",
        "  \"\"\"\n",
        "  name = input(\"Please enter your name: \")\n",
        "  return name\n",
        "\n",
        "# Example usage:\n",
        "user_name = get_name()\n",
        "if user_name:\n",
        "  print(f\"My name is, {user_name}!\")\n",
        "else:\n",
        "  print(\"No name was entered.\")"
      ],
      "metadata": {
        "colab": {
          "base_uri": "https://localhost:8080/"
        },
        "id": "W4-bTSQtPPxR",
        "outputId": "9ec67bcf-b412-42cb-e5ad-5009b3874853"
      },
      "execution_count": null,
      "outputs": [
        {
          "output_type": "stream",
          "name": "stdout",
          "text": [
            "Please enter your name: Jamshed\n",
            "My name is, Jamshed!\n"
          ]
        }
      ]
    },
    {
      "cell_type": "markdown",
      "source": [
        "# 06_is_odd.md"
      ],
      "metadata": {
        "id": "N4nWCfiDPeR_"
      }
    },
    {
      "cell_type": "markdown",
      "source": [
        "# Starter Code"
      ],
      "metadata": {
        "id": "y9aAYX88Pg-d"
      }
    },
    {
      "cell_type": "code",
      "source": [
        "def is_odd(number):\n",
        "  \"\"\"\n",
        "  Checks if a number is odd.\n",
        "\n",
        "  Args:\n",
        "    number: An integer.\n",
        "\n",
        "  Returns:\n",
        "    True if the number is odd, False otherwise.\n",
        "  \"\"\"\n",
        "  # Your code here\n",
        "  return False  # Placeholder\n",
        "\n",
        "# Example usage:\n",
        "print(f\"Is 5 odd? {is_odd(5)}\")\n",
        "print(f\"Is 10 odd? {is_odd(10)}\")\n",
        "print(f\"Is -3 odd? {is_odd(-3)}\")\n",
        "print(f\"Is 0 odd? {is_odd(0)}\")"
      ],
      "metadata": {
        "id": "NhTrEzhPPmK8",
        "colab": {
          "base_uri": "https://localhost:8080/"
        },
        "outputId": "5db2378b-1b3d-4981-b99b-710575fc6a97"
      },
      "execution_count": null,
      "outputs": [
        {
          "output_type": "stream",
          "name": "stdout",
          "text": [
            "Is 5 odd? False\n",
            "Is 10 odd? False\n",
            "Is -3 odd? False\n",
            "Is 0 odd? False\n"
          ]
        }
      ]
    },
    {
      "cell_type": "markdown",
      "source": [
        "# Solution"
      ],
      "metadata": {
        "id": "52OEl6pNRUGl"
      }
    },
    {
      "cell_type": "code",
      "source": [
        "def is_odd(number):\n",
        "  \"\"\"\n",
        "  Checks if a number is odd.\n",
        "\n",
        "  Args:\n",
        "    number: An integer.\n",
        "\n",
        "  Returns:\n",
        "    True if the number is odd, False otherwise.\n",
        "  \"\"\"\n",
        "  return number % 2 != 0\n",
        "\n",
        "# Example usage:\n",
        "print(f\"Is 5 odd? {is_odd(5)}\")\n",
        "print(f\"Is 10 odd? {is_odd(10)}\")\n",
        "print(f\"Is -3 odd? {is_odd(-3)}\")\n",
        "print(f\"Is 0 odd? {is_odd(0)}\")"
      ],
      "metadata": {
        "colab": {
          "base_uri": "https://localhost:8080/"
        },
        "id": "92gzN5OFRdEc",
        "outputId": "c62f02ae-2b07-40cc-f170-e08a1b074f37"
      },
      "execution_count": null,
      "outputs": [
        {
          "output_type": "stream",
          "name": "stdout",
          "text": [
            "Is 5 odd? True\n",
            "Is 10 odd? False\n",
            "Is -3 odd? True\n",
            "Is 0 odd? False\n"
          ]
        }
      ]
    },
    {
      "cell_type": "markdown",
      "source": [
        "# 07_print_divisor.md"
      ],
      "metadata": {
        "id": "elT5XDT9Rp9P"
      }
    },
    {
      "cell_type": "markdown",
      "source": [
        "# Starter Code"
      ],
      "metadata": {
        "id": "05A43CwVRs8Y"
      }
    },
    {
      "cell_type": "code",
      "source": [
        "def print_divisors(number):\n",
        "  \"\"\"\n",
        "  Prints all the divisors of a given number.\n",
        "\n",
        "  Args:\n",
        "    number: An integer.\n",
        "  \"\"\"\n",
        "  print(f\"Divisors of {number}:\")\n",
        "  # Your code here\n",
        "\n",
        "# Example usage:\n",
        "print_divisors(12)\n",
        "print_divisors(7)\n",
        "print_divisors(1)\n",
        "print_divisors(0)\n",
        "print_divisors(-12)"
      ],
      "metadata": {
        "id": "HGbEM58HRyur",
        "colab": {
          "base_uri": "https://localhost:8080/"
        },
        "outputId": "6fab6c2c-cdfd-4cf8-b68f-e754bd2dc3b5"
      },
      "execution_count": null,
      "outputs": [
        {
          "output_type": "stream",
          "name": "stdout",
          "text": [
            "Divisors of 12:\n",
            "Divisors of 7:\n",
            "Divisors of 1:\n",
            "Divisors of 0:\n",
            "Divisors of -12:\n"
          ]
        }
      ]
    },
    {
      "cell_type": "markdown",
      "source": [
        "# Solution"
      ],
      "metadata": {
        "id": "Pvf40DNlR5mh"
      }
    },
    {
      "cell_type": "code",
      "source": [
        "def print_divisors(number):\n",
        "  \"\"\"\n",
        "  Prints all the divisors of a given number.\n",
        "\n",
        "  Args:\n",
        "    number: An integer.\n",
        "  \"\"\"\n",
        "  print(f\"Divisors of {number}:\")\n",
        "  if number == 0:\n",
        "    print(\"All non-zero integers are divisors of 0 (practically infinite).\")\n",
        "    return\n",
        "\n",
        "  abs_number = abs(number)\n",
        "  for i in range(1, abs_number + 1):\n",
        "    if abs_number % i == 0:\n",
        "      if number < 0:\n",
        "        print(-i)\n",
        "      print(i)\n",
        "\n",
        "# Example usage:\n",
        "print_divisors(12)\n",
        "print_divisors(7)\n",
        "print_divisors(1)\n",
        "print_divisors(0)\n",
        "print_divisors(-12)"
      ],
      "metadata": {
        "colab": {
          "base_uri": "https://localhost:8080/"
        },
        "id": "UT3PZ2_vR9xF",
        "outputId": "7f214ad2-1591-4edb-d087-7617deb469c1"
      },
      "execution_count": null,
      "outputs": [
        {
          "output_type": "stream",
          "name": "stdout",
          "text": [
            "Divisors of 12:\n",
            "1\n",
            "2\n",
            "3\n",
            "4\n",
            "6\n",
            "12\n",
            "Divisors of 7:\n",
            "1\n",
            "7\n",
            "Divisors of 1:\n",
            "1\n",
            "Divisors of 0:\n",
            "All non-zero integers are divisors of 0 (practically infinite).\n",
            "Divisors of -12:\n",
            "-1\n",
            "1\n",
            "-2\n",
            "2\n",
            "-3\n",
            "3\n",
            "-4\n",
            "4\n",
            "-6\n",
            "6\n",
            "-12\n",
            "12\n"
          ]
        }
      ]
    },
    {
      "cell_type": "markdown",
      "source": [
        "# 08_print_multiple.md"
      ],
      "metadata": {
        "id": "m8ag3hhiSgTe"
      }
    },
    {
      "cell_type": "markdown",
      "source": [
        "# Starter Code"
      ],
      "metadata": {
        "id": "iPkXGAe4S4yx"
      }
    },
    {
      "cell_type": "code",
      "source": [
        "def print_divisors(number):\n",
        "  \"\"\"\n",
        "  Prints all the divisors of a given number.\n",
        "\n",
        "  Args:\n",
        "    number: An integer.\n",
        "  \"\"\"\n",
        "  print(f\"Divisors of {number}:\")\n",
        "  if number == 0:\n",
        "    print(\"All non-zero integers are divisors of 0 (practically infinite).\")\n",
        "    return\n",
        "\n",
        "  abs_number = abs(number)\n",
        "  for i in range(1, abs_number + 1):\n",
        "    if abs_number % i == 0:\n",
        "      if number < 0:\n",
        "        print(-i)\n",
        "      print(i)\n",
        "\n",
        "# Example usage:\n",
        "print_divisors(12)\n",
        "print_divisors(7)\n",
        "print_divisors(1)\n",
        "print_divisors(0)\n",
        "print_divisors(-12)"
      ],
      "metadata": {
        "id": "iewwHVFlTAqh",
        "colab": {
          "base_uri": "https://localhost:8080/"
        },
        "outputId": "7b022266-cf18-45b7-ed87-7ddd4d58d3d8"
      },
      "execution_count": null,
      "outputs": [
        {
          "output_type": "stream",
          "name": "stdout",
          "text": [
            "Divisors of 12:\n",
            "1\n",
            "2\n",
            "3\n",
            "4\n",
            "6\n",
            "12\n",
            "Divisors of 7:\n",
            "1\n",
            "7\n",
            "Divisors of 1:\n",
            "1\n",
            "Divisors of 0:\n",
            "All non-zero integers are divisors of 0 (practically infinite).\n",
            "Divisors of -12:\n",
            "-1\n",
            "1\n",
            "-2\n",
            "2\n",
            "-3\n",
            "3\n",
            "-4\n",
            "4\n",
            "-6\n",
            "6\n",
            "-12\n",
            "12\n"
          ]
        }
      ]
    },
    {
      "cell_type": "markdown",
      "source": [
        "# Solution"
      ],
      "metadata": {
        "id": "sRZxR_cUWTnI"
      }
    },
    {
      "cell_type": "code",
      "source": [
        "def print_multiples(number, limit):\n",
        "  \"\"\"\n",
        "  Prints the multiples of a given number up to a specified limit.\n",
        "\n",
        "  Args:\n",
        "    number: The number whose multiples will be printed.\n",
        "    limit: The upper limit (inclusive) up to which multiples are printed.\n",
        "  \"\"\"\n",
        "  print(f\"Multiples of {number} up to {limit}:\")\n",
        "  if number == 0:\n",
        "    print(\"All numbers are multiples of 0.\")\n",
        "    return\n",
        "\n",
        "  multiple = number\n",
        "  while multiple <= limit:\n",
        "    print(multiple)\n",
        "    multiple += number\n",
        "\n",
        "# Example usage:\n",
        "print_multiples(3, 15)\n",
        "print_multiples(5, 30)\n",
        "print_multiples(7, 10)\n",
        "print_multiples(2, 20)\n",
        "print_multiples(10, 5)\n",
        "print_multiples(0, 10)"
      ],
      "metadata": {
        "id": "cJ8K7ODGWYBv",
        "colab": {
          "base_uri": "https://localhost:8080/"
        },
        "outputId": "609d68d1-2ce0-40db-99bc-c2987b1c97c7"
      },
      "execution_count": null,
      "outputs": [
        {
          "output_type": "stream",
          "name": "stdout",
          "text": [
            "Multiples of 3 up to 15:\n",
            "3\n",
            "6\n",
            "9\n",
            "12\n",
            "15\n",
            "Multiples of 5 up to 30:\n",
            "5\n",
            "10\n",
            "15\n",
            "20\n",
            "25\n",
            "30\n",
            "Multiples of 7 up to 10:\n",
            "7\n",
            "Multiples of 2 up to 20:\n",
            "2\n",
            "4\n",
            "6\n",
            "8\n",
            "10\n",
            "12\n",
            "14\n",
            "16\n",
            "18\n",
            "20\n",
            "Multiples of 10 up to 5:\n",
            "Multiples of 0 up to 10:\n",
            "All numbers are multiples of 0.\n"
          ]
        }
      ]
    },
    {
      "cell_type": "markdown",
      "source": [
        "# 09_sentence_generator.md"
      ],
      "metadata": {
        "id": "yNdvmEQvWmzK"
      }
    },
    {
      "cell_type": "markdown",
      "source": [
        "# Starter Code"
      ],
      "metadata": {
        "id": "QHJWWh-qW1XR"
      }
    },
    {
      "cell_type": "code",
      "source": [
        "import random\n",
        "\n",
        "def generate_sentence(articles, nouns, verbs, adjectives):\n",
        "  \"\"\"\n",
        "  Generates a random sentence using the provided lists of words.\n",
        "\n",
        "  Args:\n",
        "    articles: A list of article words (e.g., \"the\", \"a\").\n",
        "    nouns: A list of noun words (e.g., \"cat\", \"dog\", \"house\").\n",
        "    verbs: A list of verb words (e.g., \"ran\", \"jumped\", \"slept\").\n",
        "    adjectives: A list of adjective words (e.g., \"big\", \"small\", \"happy\").\n",
        "\n",
        "  Returns:\n",
        "    A randomly generated sentence as a string.\n",
        "  \"\"\"\n",
        "  # Your code here to randomly select words and construct a sentence\n",
        "  return \"\"\n",
        "\n",
        "# Example word lists:\n",
        "articles = [\"the\", \"a\"]\n",
        "nouns = [\"cat\", \"dog\", \"bird\", \"house\", \"tree\"]\n",
        "verbs = [\"ran\", \"jumped\", \"flew\", \"sat\", \"grew\"]\n",
        "adjectives = [\"big\", \"small\", \"happy\", \"sad\", \"green\"]\n",
        "\n",
        "# Generate and print a sentence:\n",
        "random_sentence = generate_sentence(articles, nouns, verbs, adjectives)\n",
        "print(random_sentence)"
      ],
      "metadata": {
        "id": "GnHmjojIW9YX",
        "colab": {
          "base_uri": "https://localhost:8080/"
        },
        "outputId": "3d95e060-0784-4d21-f4a8-ca24bfc10b2b"
      },
      "execution_count": null,
      "outputs": [
        {
          "output_type": "stream",
          "name": "stdout",
          "text": [
            "\n"
          ]
        }
      ]
    },
    {
      "cell_type": "markdown",
      "source": [
        "# Solution"
      ],
      "metadata": {
        "id": "HAf_dfabXI-_"
      }
    },
    {
      "cell_type": "code",
      "source": [
        "import random\n",
        "\n",
        "def generate_sentence(articles, nouns, verbs, adjectives):\n",
        "  \"\"\"\n",
        "  Generates a random sentence using the provided lists of words.\n",
        "\n",
        "  Args:\n",
        "    articles: A list of article words (e.g., \"the\", \"a\").\n",
        "    nouns: A list of noun words (e.g., \"cat\", \"dog\", \"house\").\n",
        "    verbs: A list of verb words (e.g., \"ran\", \"jumped\", \"slept\").\n",
        "    adjectives: A list of adjective words (e.g., \"big\", \"small\", \"happy\").\n",
        "\n",
        "  Returns:\n",
        "    A randomly generated sentence as a string.\n",
        "  \"\"\"\n",
        "  article = random.choice(articles)\n",
        "  noun = random.choice(nouns)\n",
        "  verb = random.choice(verbs)\n",
        "  adjective = random.choice(adjectives)\n",
        "  sentence = f\"{article} {adjective} {noun} {verb}.\"\n",
        "  return sentence\n",
        "\n",
        "# Example word lists:\n",
        "articles = [\"the\", \"a\"]\n",
        "nouns = [\"cat\", \"dog\", \"bird\", \"house\", \"tree\"]\n",
        "verbs = [\"ran\", \"jumped\", \"flew\", \"sat\", \"grew\"]\n",
        "adjectives = [\"big\", \"small\", \"happy\", \"sad\", \"green\"]\n",
        "\n",
        "# Generate and print a sentence:\n",
        "random_sentence = generate_sentence(articles, nouns, verbs, adjectives)\n",
        "print(random_sentence)"
      ],
      "metadata": {
        "id": "zz1kAfmMXP0E",
        "colab": {
          "base_uri": "https://localhost:8080/"
        },
        "outputId": "66271644-1d80-40f4-f319-a384558d1a06"
      },
      "execution_count": null,
      "outputs": [
        {
          "output_type": "stream",
          "name": "stdout",
          "text": [
            "a happy bird ran.\n"
          ]
        }
      ]
    },
    {
      "cell_type": "markdown",
      "source": [
        "# 10_print_ones_digit.md"
      ],
      "metadata": {
        "id": "FDu7BVtbXslf"
      }
    },
    {
      "cell_type": "markdown",
      "source": [
        "# Starter Code"
      ],
      "metadata": {
        "id": "xptAnVSJX0l0"
      }
    },
    {
      "cell_type": "code",
      "source": [
        "def print_ones_digit(number):\n",
        "  \"\"\"\n",
        "  Prints the ones digit of a given integer.\n",
        "\n",
        "  Args:\n",
        "    number: An integer.\n",
        "  \"\"\"\n",
        "  # Your code here\n",
        "\n",
        "# Example usage:\n",
        "print_ones_digit(123)\n",
        "print_ones_digit(45)\n",
        "print_ones_digit(6)\n",
        "print_ones_digit(0)\n",
        "print_ones_digit(-789)"
      ],
      "metadata": {
        "id": "pCvMXGyKX5Nv"
      },
      "execution_count": null,
      "outputs": []
    },
    {
      "cell_type": "markdown",
      "source": [
        "# Solution"
      ],
      "metadata": {
        "id": "9-UJoB8EYDC7"
      }
    },
    {
      "cell_type": "code",
      "source": [
        "def print_ones_digit(number):\n",
        "  \"\"\"\n",
        "  Prints the ones digit of a given integer.\n",
        "\n",
        "  Args:\n",
        "    number: An integer.\n",
        "  \"\"\"\n",
        "  ones_digit = number % 10\n",
        "  print(f\"The ones digit of {number} is: {ones_digit}\")\n",
        "\n",
        "# Example usage:\n",
        "print_ones_digit(123)\n",
        "print_ones_digit(45)\n",
        "print_ones_digit(6)\n",
        "print_ones_digit(0)\n",
        "print_ones_digit(-789)"
      ],
      "metadata": {
        "id": "2jXETfUQYHKj",
        "colab": {
          "base_uri": "https://localhost:8080/"
        },
        "outputId": "4e0a5877-5cab-4217-a72e-8c04334078de"
      },
      "execution_count": null,
      "outputs": [
        {
          "output_type": "stream",
          "name": "stdout",
          "text": [
            "The ones digit of 123 is: 3\n",
            "The ones digit of 45 is: 5\n",
            "The ones digit of 6 is: 6\n",
            "The ones digit of 0 is: 0\n",
            "The ones digit of -789 is: 1\n"
          ]
        }
      ]
    }
  ]
}