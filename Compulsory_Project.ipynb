{
  "nbformat": 4,
  "nbformat_minor": 0,
  "metadata": {
    "colab": {
      "provenance": [],
      "authorship_tag": "ABX9TyPJMWoIFC3cusTZfaYedQWm",
      "include_colab_link": true
    },
    "kernelspec": {
      "name": "python3",
      "display_name": "Python 3"
    },
    "language_info": {
      "name": "python"
    }
  },
  "cells": [
    {
      "cell_type": "markdown",
      "metadata": {
        "id": "view-in-github",
        "colab_type": "text"
      },
      "source": [
        "<a href=\"https://colab.research.google.com/github/jamshedulhaquesheikh00/Jamshed_Ul_Haque_Sheikh_April_codings_nights_0001/blob/main/Compulsory_Project.ipynb\" target=\"_parent\"><img src=\"https://colab.research.google.com/assets/colab-badge.svg\" alt=\"Open In Colab\"/></a>"
      ]
    },
    {
      "cell_type": "markdown",
      "source": [
        "# Mad libs Python Project"
      ],
      "metadata": {
        "id": "2dD9a5EfpydU"
      }
    },
    {
      "cell_type": "code",
      "source": [
        "# Mad Libs Python Project (English Version)\n",
        "\n",
        "# Get input from the user for different types of words.\n",
        "noun1 = input(\"Enter a noun: \")\n",
        "adjective1 = input(\"Enter an adjective: \")\n",
        "verb = input(\"Enter a verb (present tense): \")\n",
        "verb_ing = input(\"Enter a verb ending in 'ing': \")\n",
        "noun2 = input(\"Enter another noun: \")\n",
        "adjective2 = input(\"Enter another adjective: \")\n",
        "famous_person = input(\"Enter the name of a famous person: \")\n",
        "place = input(\"Enter a place: \")\n",
        "plural_noun = input(\"Enter a plural noun: \")\n",
        "\n",
        "# The story template.\n",
        "story = f\"Yesterday, I went to see a very {adjective1} {noun1}. We decided to {verb} at the {place}.\\n\"\n",
        "story += f\"When we got there, we saw many people {verb_ing}. Suddenly, a giant {noun2} appeared and everyone felt very {adjective2}.\\n\"\n",
        "story += f\"I heard that {famous_person} also really enjoys {plural_noun}. It was a truly unforgettable day!\"\n",
        "\n",
        "# Print the generated story.\n",
        "print(\"\\nHere is your Mad Libs story:\")\n",
        "print(story)"
      ],
      "metadata": {
        "id": "4-YwE_e3p5kR",
        "colab": {
          "base_uri": "https://localhost:8080/"
        },
        "outputId": "4f751ded-83f6-45bf-85b5-e1de3bda0ca4"
      },
      "execution_count": 1,
      "outputs": [
        {
          "output_type": "stream",
          "name": "stdout",
          "text": [
            "Enter a noun: 5\n",
            "Enter an adjective: 3\n",
            "Enter a verb (present tense): 7\n",
            "Enter a verb ending in 'ing': 58\n",
            "Enter another noun: 40\n",
            "Enter another adjective: 33\n",
            "Enter the name of a famous person: Jamshed\n",
            "Enter a place: 22\n",
            "Enter a plural noun: 33\n",
            "\n",
            "Here is your Mad Libs story:\n",
            "Yesterday, I went to see a very 3 5. We decided to 7 at the 22.\n",
            "When we got there, we saw many people 58. Suddenly, a giant 40 appeared and everyone felt very 33.\n",
            "I heard that Jamshed also really enjoys 33. It was a truly unforgettable day!\n"
          ]
        }
      ]
    },
    {
      "cell_type": "markdown",
      "source": [
        "# Guess the Number Game Python Project (computer)"
      ],
      "metadata": {
        "id": "spgqm0TSrM5W"
      }
    },
    {
      "cell_type": "code",
      "source": [
        "import random\n",
        "\n",
        "def guess_the_number_computer():\n",
        "    \"\"\"Plays a Guess the Number game where the computer tries to guess the user's number.\"\"\"\n",
        "\n",
        "    print(\"Think of a secret number between 1 and 100.\")\n",
        "    print(\"The computer will try to guess your number.\")\n",
        "    print(\"Respond with:\")\n",
        "    print(\"  - 'higher' if your number is higher than the guess.\")\n",
        "    print(\"  - 'lower' if your number is lower than the guess.\")\n",
        "    print(\"  - 'correct' if the guess is correct.\")\n",
        "\n",
        "    low = 1\n",
        "    high = 100\n",
        "    attempts = 0\n",
        "\n",
        "    while True:\n",
        "        guess = random.randint(low, high)\n",
        "        attempts += 1\n",
        "        print(f\"Computer's guess: {guess}\")\n",
        "        feedback = input(\"Is my guess higher, lower, or correct? \").lower()\n",
        "\n",
        "        if feedback == 'higher':\n",
        "            low = guess + 1\n",
        "        elif feedback == 'lower':\n",
        "            high = guess - 1\n",
        "        elif feedback == 'correct':\n",
        "            print(f\"Computer guessed your number in {attempts} attempts!\")\n",
        "            break\n",
        "        else:\n",
        "            print(\"Invalid feedback. Please enter 'higher', 'lower', or 'correct'.\")\n",
        "\n",
        "if __name__ == \"__main__\":\n",
        "    guess_the_number_computer()"
      ],
      "metadata": {
        "id": "Hl7auLIFrN0k"
      },
      "execution_count": null,
      "outputs": []
    },
    {
      "cell_type": "markdown",
      "source": [
        "# Guess the Number Game Python Project (user)"
      ],
      "metadata": {
        "id": "PcOCOOR4sbKs"
      }
    },
    {
      "cell_type": "code",
      "source": [
        "import random\n",
        "\n",
        "def guess_the_number_user():\n",
        "    \"\"\"Plays a Guess the Number game where the user tries to guess the computer's number.\"\"\"\n",
        "\n",
        "    number = random.randint(1, 100)\n",
        "    attempts = 0\n",
        "\n",
        "    print(\"I'm thinking of a number between 1 and 100.\")\n",
        "    print(\"Try to guess my number!\")\n",
        "\n",
        "    while True:\n",
        "        try:\n",
        "            guess = int(input(\"Enter your guess: \"))\n",
        "            attempts += 1\n",
        "\n",
        "            if guess < number:\n",
        "                print(\"Too low! Try again.\")\n",
        "            elif guess > number:\n",
        "                print(\"Too high! Try again.\")\n",
        "            else:\n",
        "                print(f\"Congratulations! You guessed the number {number} in {attempts} attempts!\")\n",
        "                break\n",
        "        except ValueError:\n",
        "            print(\"Invalid input. Please enter a whole number.\")\n",
        "\n",
        "if __name__ == \"__main__\":\n",
        "    guess_the_number_user()"
      ],
      "metadata": {
        "id": "6jqbEW9fsruR"
      },
      "execution_count": null,
      "outputs": []
    },
    {
      "cell_type": "markdown",
      "source": [
        "# Rock, paper, scissors Python Project"
      ],
      "metadata": {
        "id": "6DRpftyts_Qd"
      }
    },
    {
      "cell_type": "code",
      "source": [
        "import random\n",
        "\n",
        "def play_rps():\n",
        "    \"\"\"Plays a game of Rock, Paper, Scissors with the user.\"\"\"\n",
        "\n",
        "    choices = [\"rock\", \"paper\", \"scissors\"]\n",
        "    computer_choice = random.choice(choices)\n",
        "    user_choice = \"\"\n",
        "\n",
        "    while user_choice not in choices:\n",
        "        user_choice = input(\"Choose your weapon (rock, paper, or scissors): \").lower()\n",
        "        if user_choice not in choices:\n",
        "            print(\"Invalid choice. Please enter rock, paper, or scissors.\")\n",
        "\n",
        "    print(f\"\\nYou chose: {user_choice}\")\n",
        "    print(f\"Computer chose: {computer_choice}\")\n",
        "\n",
        "    if user_choice == computer_choice:\n",
        "        print(\"It's a tie!\")\n",
        "    elif (user_choice == \"rock\" and computer_choice == \"scissors\") or \\\n",
        "         (user_choice == \"paper\" and computer_choice == \"rock\") or \\\n",
        "         (user_choice == \"scissors\" and computer_choice == \"paper\"):\n",
        "        print(\"You win!\")\n",
        "    else:\n",
        "        print(\"Computer wins!\")\n",
        "\n",
        "if __name__ == \"__main__\":\n",
        "    play_rps()"
      ],
      "metadata": {
        "id": "TGLM09yOtFdR"
      },
      "execution_count": null,
      "outputs": []
    },
    {
      "cell_type": "markdown",
      "source": [
        "# Hangman Python Project"
      ],
      "metadata": {
        "id": "dhpoVkLktosf"
      }
    },
    {
      "cell_type": "code",
      "source": [
        "import random\n",
        "\n",
        "def choose_word():\n",
        "    \"\"\"Chooses a random word from a predefined list.\"\"\"\n",
        "    words = [\"apple\", \"banana\", \"cherry\", \"date\", \"elderberry\", \"fig\", \"grape\"]\n",
        "    return random.choice(words)\n",
        "\n",
        "def display_word(secret_word, guessed_letters):\n",
        "    \"\"\"Displays the partially guessed word with underscores for unguessed letters.\"\"\"\n",
        "    display = \"\"\n",
        "    for letter in secret_word:\n",
        "        if letter in guessed_letters:\n",
        "            display += letter\n",
        "        else:\n",
        "            display += \"_\"\n",
        "        display += \" \"\n",
        "    return display.strip()\n",
        "\n",
        "def play_hangman():\n",
        "    \"\"\"Plays the Hangman game.\"\"\"\n",
        "    secret_word = choose_word()\n",
        "    guessed_letters = set()\n",
        "    attempts_left = 6  # You can adjust the number of attempts\n",
        "\n",
        "    print(\"Welcome to Hangman!\")\n",
        "    print(f\"The secret word has {len(secret_word)} letters.\")\n",
        "    print(display_word(secret_word, guessed_letters))\n",
        "    print(f\"Attempts left: {attempts_left}\")\n",
        "\n",
        "    while attempts_left > 0:\n",
        "        guess = input(\"Guess a letter: \").lower()\n",
        "\n",
        "        if not guess.isalpha() or len(guess) != 1:\n",
        "            print(\"Invalid guess. Please enter a single letter.\")\n",
        "            continue\n",
        "\n",
        "        if guess in guessed_letters:\n",
        "            print(\"You've already guessed that letter.\")\n",
        "            continue\n",
        "\n",
        "        guessed_letters.add(guess)\n",
        "\n",
        "        if guess in secret_word:\n",
        "            print(\"Correct guess!\")\n",
        "            current_display = display_word(secret_word, guessed_letters)\n",
        "            print(current_display)\n",
        "            if \"_\" not in current_display:\n",
        "                print(\"Congratulations! You guessed the word:\", secret_word)\n",
        "                break\n",
        "        else:\n",
        "            attempts_left -= 1\n",
        "            print(f\"Incorrect guess. {attempts_left} attempts left.\")\n",
        "            print(display_word(secret_word, guessed_letters))\n",
        "\n",
        "        if attempts_left == 0:\n",
        "            print(\"You ran out of attempts!\")\n",
        "            print(\"The secret word was:\", secret_word)\n",
        "\n",
        "if __name__ == \"__main__\":\n",
        "    play_hangman()"
      ],
      "metadata": {
        "id": "FE7aX6GCtqym"
      },
      "execution_count": null,
      "outputs": []
    },
    {
      "cell_type": "markdown",
      "source": [
        "# Countdown Timer Python Project"
      ],
      "metadata": {
        "id": "5Tyfe4fqubo1"
      }
    },
    {
      "cell_type": "code",
      "source": [
        "import time\n",
        "\n",
        "def countdown_timer(seconds):\n",
        "    \"\"\"Counts down from a given number of seconds.\"\"\"\n",
        "    while seconds > 0:\n",
        "        mins = seconds // 60\n",
        "        secs = seconds % 60\n",
        "        timer = f\"{mins:02d}:{secs:02d}\"\n",
        "        print(timer, end=\"\\r\")  # \\r to overwrite the previous line\n",
        "        time.sleep(1)\n",
        "        seconds -= 1\n",
        "\n",
        "    print(\"Time's up!\")\n",
        "\n",
        "if __name__ == \"__main__\":\n",
        "    try:\n",
        "        time_in_seconds = int(input(\"Enter the countdown time in seconds: \"))\n",
        "        if time_in_seconds <= 0:\n",
        "            print(\"Please enter a positive number of seconds.\")\n",
        "        else:\n",
        "            countdown_timer(time_in_seconds)\n",
        "    except ValueError:\n",
        "        print(\"Invalid input. Please enter a whole number for the time.\")"
      ],
      "metadata": {
        "id": "YHjv3JMnujHR"
      },
      "execution_count": null,
      "outputs": []
    },
    {
      "cell_type": "markdown",
      "source": [
        "# Password Generator Python Project"
      ],
      "metadata": {
        "id": "fITy0Plou5xv"
      }
    },
    {
      "cell_type": "code",
      "source": [
        "import random\n",
        "import string\n",
        "\n",
        "def generate_password(length=12, use_lowercase=True, use_uppercase=True, use_digits=True, use_symbols=True):\n",
        "    \"\"\"Generates a random password with specified criteria.\"\"\"\n",
        "\n",
        "    characters = \"\"\n",
        "    if use_lowercase:\n",
        "        characters += string.ascii_lowercase\n",
        "    if use_uppercase:\n",
        "        characters += string.ascii_uppercase\n",
        "    if use_digits:\n",
        "        characters += string.digits\n",
        "    if use_symbols:\n",
        "        characters += string.punctuation\n",
        "\n",
        "    if not characters:\n",
        "        return \"Error: At least one character type must be selected.\"\n",
        "\n",
        "    if length < 1:\n",
        "        return \"Error: Password length must be at least 1.\"\n",
        "\n",
        "    password = ''.join(random.choice(characters) for _ in range(length))\n",
        "    return password\n",
        "\n",
        "if __name__ == \"__main__\":\n",
        "    print(\"Password Generator\")\n",
        "    try:\n",
        "        password_length = int(input(\"Enter desired password length (default is 12): \") or 12)\n",
        "        include_lowercase = input(\"Include lowercase letters? (y/n, default is y): \").lower() in ['y', 'yes', '']\n",
        "        include_uppercase = input(\"Include uppercase letters? (y/n, default is y): \").lower() in ['y', 'yes', '']\n",
        "        include_digits = input(\"Include digits? (y/n, default is y): \").lower() in ['y', 'yes', '']\n",
        "        include_symbols = input(\"Include symbols? (y/n, default is y): \").lower() in ['y', 'yes', '']\n",
        "\n",
        "        generated_password = generate_password(\n",
        "            length=password_length,\n",
        "            use_lowercase=include_lowercase,\n",
        "            use_uppercase=include_uppercase,\n",
        "            use_digits=include_digits,\n",
        "            use_symbols=include_symbols\n",
        "        )\n",
        "        print(\"\\nGenerated Password:\", generated_password)\n",
        "\n",
        "    except ValueError:\n",
        "        print(\"Invalid input. Please enter a whole number for the password length.\")"
      ],
      "metadata": {
        "id": "QFij8H5mvovN"
      },
      "execution_count": null,
      "outputs": []
    },
    {
      "cell_type": "markdown",
      "source": [
        "# Create a Python Streamlit BMI Calculator Web App in Just 6 Minutes"
      ],
      "metadata": {
        "id": "DVC6FYwYwt6K"
      }
    },
    {
      "cell_type": "code",
      "source": [
        "import streamlit as st\n",
        "\n",
        "def calculate_bmi(weight_kg, height_m):\n",
        "    \"\"\"Calculates Body Mass Index (BMI).\"\"\"\n",
        "    try:\n",
        "        bmi = weight_kg / (height_m ** 2)\n",
        "        return bmi\n",
        "    except ZeroDivisionError:\n",
        "        return \"Error: Height cannot be zero.\"\n",
        "\n",
        "def interpret_bmi(bmi):\n",
        "    \"\"\"Interprets the BMI value.\"\"\"\n",
        "    if isinstance(bmi, str):\n",
        "        return bmi\n",
        "    elif bmi < 18.5:\n",
        "        return \"Underweight\"\n",
        "    elif 18.5 <= bmi < 25:\n",
        "        return \"Normal weight\"\n",
        "    elif 25 <= bmi < 30:\n",
        "        return \"Overweight\"\n",
        "    else:\n",
        "        return \"Obese\"\n",
        "\n",
        "st.title(\"Simple BMI Calculator\")\n",
        "\n",
        "st.subheader(\"Enter your details:\")\n",
        "weight = st.number_input(\"Weight (in kg)\", min_value=1.0)\n",
        "height = st.number_input(\"Height (in meters)\", min_value=0.1)\n",
        "\n",
        "if st.button(\"Calculate BMI\"):\n",
        "    bmi_value = calculate_bmi(weight, height)\n",
        "    st.subheader(\"BMI Result:\")\n",
        "    st.write(f\"Your BMI is: **{bmi_value:.2f}**\")\n",
        "    interpretation = interpret_bmi(bmi_value)\n",
        "    st.write(f\"Interpretation: **{interpretation}**\")"
      ],
      "metadata": {
        "id": "kEo2ntG6w0m_"
      },
      "execution_count": null,
      "outputs": []
    },
    {
      "cell_type": "markdown",
      "source": [
        "# Build a Python Website in 15 Minutes With Streamlit"
      ],
      "metadata": {
        "id": "sPqY1bEUxy9x"
      }
    },
    {
      "cell_type": "code",
      "source": [],
      "metadata": {
        "id": "YWo42x2_x6C8"
      },
      "execution_count": null,
      "outputs": []
    }
  ]
}