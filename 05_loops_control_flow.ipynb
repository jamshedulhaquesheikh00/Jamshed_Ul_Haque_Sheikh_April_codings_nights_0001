{
  "cells": [
    {
      "cell_type": "markdown",
      "metadata": {
        "id": "view-in-github",
        "colab_type": "text"
      },
      "source": [
        "<a href=\"https://colab.research.google.com/github/jamshedulhaquesheikh00/Jamshed_Ul_Haque_Sheikh_April_codings_nights_0001/blob/main/05_loops_control_flow.ipynb\" target=\"_parent\"><img src=\"https://colab.research.google.com/assets/colab-badge.svg\" alt=\"Open In Colab\"/></a>"
      ]
    },
    {
      "cell_type": "markdown",
      "metadata": {
        "id": "XEHBDLG_g4Yx"
      },
      "source": [
        "# 00_guess_my_number.md"
      ]
    },
    {
      "cell_type": "markdown",
      "metadata": {
        "id": "trttYdrmg_LJ"
      },
      "source": [
        "# Starter Code"
      ]
    },
    {
      "cell_type": "code",
      "execution_count": null,
      "metadata": {
        "id": "Ygh3xROlhF5d",
        "colab": {
          "base_uri": "https://localhost:8080/"
        },
        "outputId": "627ca22c-524e-438d-cb54-9ba3947cfb32"
      },
      "outputs": [
        {
          "output_type": "stream",
          "name": "stdout",
          "text": [
            "Guess a number between 1 and 100: 6\n",
            "Too low. Try again.\n",
            "Guess a number between 1 and 100: 3\n",
            "Too low. Try again.\n",
            "Guess a number between 1 and 100: 1\n",
            "Too low. Try again.\n",
            "Guess a number between 1 and 100: 01\n",
            "Too low. Try again.\n",
            "Guess a number between 1 and 100: 11\n",
            "Too low. Try again.\n",
            "Sorry, you ran out of guesses. The secret number was 58\n"
          ]
        }
      ],
      "source": [
        "import random\n",
        "\n",
        "def main():\n",
        "    # Generate a random number between 1 and 100\n",
        "    secret_number = random.randint(1, 100)\n",
        "\n",
        "    # Initialize the number of guesses\n",
        "    num_guesses = 0\n",
        "\n",
        "    # Loop until the user guesses correctly or runs out of guesses\n",
        "    while num_guesses < 5:\n",
        "        # Get the user's guess\n",
        "        guess = int(input(\"Guess a number between 1 and 100: \"))\n",
        "\n",
        "        # Increment the number of guesses\n",
        "        num_guesses += 1\n",
        "\n",
        "        # Check if the guess is correct\n",
        "        if guess == secret_number:\n",
        "            print(\"Congratulations! You guessed the number in\", num_guesses, \"guesses.\")\n",
        "            break\n",
        "        elif guess < secret_number:\n",
        "            print(\"Too low. Try again.\")\n",
        "        else:\n",
        "            print(\"Too high. Try again.\")\n",
        "\n",
        "    # If the user runs out of guesses, reveal the secret number\n",
        "    if num_guesses == 5:\n",
        "        print(\"Sorry, you ran out of guesses. The secret number was\", secret_number)\n",
        "\n",
        "# Call the main function\n",
        "if __name__ == \"__main__\":\n",
        "    main()"
      ]
    },
    {
      "cell_type": "markdown",
      "metadata": {
        "id": "fbWj4WA4hLGM"
      },
      "source": [
        "# Solution"
      ]
    },
    {
      "cell_type": "code",
      "execution_count": null,
      "metadata": {
        "id": "EPVKGQ1mhzNL"
      },
      "outputs": [],
      "source": [
        "import random\n",
        "\n",
        "def guess_my_number():\n",
        "    \"\"\"Plays a number guessing game with the user.\"\"\"\n",
        "\n",
        "    print(\"Welcome to the Guess My Number game!\")\n",
        "    print(\"I'm thinking of a number between 1 and 100.\")\n",
        "\n",
        "    secret_number = random.randint(1, 100)\n",
        "    attempts = 0\n",
        "\n",
        "    while True:\n",
        "        try:\n",
        "            guess = int(input(\"Take a guess: \"))\n",
        "            attempts += 1\n",
        "\n",
        "            if guess < secret_number:\n",
        "                print(\"Too low! Try again.\")\n",
        "            elif guess > secret_number:\n",
        "                print(\"Too high! Try again.\")\n",
        "            else:\n",
        "                print(f\"Congratulations! You guessed the number in {attempts} attempts.\")\n",
        "                break\n",
        "        except ValueError:\n",
        "            print(\"Invalid input. Please enter a whole number.\")\n",
        "\n",
        "if __name__ == \"__main__\":\n",
        "    guess_my_number()"
      ]
    },
    {
      "cell_type": "markdown",
      "metadata": {
        "id": "_FVLQKtUol9v"
      },
      "source": [
        "# 01_fibonacci.md"
      ]
    },
    {
      "cell_type": "markdown",
      "metadata": {
        "id": "kaAkVBecovRl"
      },
      "source": [
        "# Starter Code"
      ]
    },
    {
      "cell_type": "code",
      "execution_count": null,
      "metadata": {
        "id": "4yX7jylqo1F7",
        "colab": {
          "base_uri": "https://localhost:8080/"
        },
        "outputId": "2500a3f3-3de3-4f1a-bb67-7eb29e332a06"
      },
      "outputs": [
        {
          "output_type": "stream",
          "name": "stdout",
          "text": [
            "Invalid input. Please provide a non-negative integer.\n",
            "None\n",
            "None\n",
            "None\n",
            "None\n",
            "None\n"
          ]
        }
      ],
      "source": [
        "def fibonacci(n):\n",
        "  \"\"\"\n",
        "  Calculates the nth Fibonacci number.\n",
        "\n",
        "  Args:\n",
        "    n: A non-negative integer representing the desired Fibonacci number index.\n",
        "\n",
        "  Returns:\n",
        "    The nth Fibonacci number. Returns 0 if n is 0, and 1 if n is 1.\n",
        "    Returns None for negative input.\n",
        "  \"\"\"\n",
        "  # Your code here\n",
        "\n",
        "# Example usage:\n",
        "if __name__ == \"__main__\":\n",
        "  num = 10\n",
        "  result = fibonacci(num)\n",
        "  if result is not None:\n",
        "    print(f\"The {num}th Fibonacci number is: {result}\")\n",
        "  else:\n",
        "    print(\"Invalid input. Please provide a non-negative integer.\")\n",
        "\n",
        "  print(fibonacci(0))  # Expected output: 0\n",
        "  print(fibonacci(1))  # Expected output: 1\n",
        "  print(fibonacci(5))  # Expected output: 5\n",
        "  print(fibonacci(12)) # Expected output: 144\n",
        "  print(fibonacci(-1)) # Expected output: None"
      ]
    },
    {
      "cell_type": "markdown",
      "metadata": {
        "id": "OKBdZqSxo-65"
      },
      "source": [
        "# Solution"
      ]
    },
    {
      "cell_type": "code",
      "execution_count": null,
      "metadata": {
        "colab": {
          "base_uri": "https://localhost:8080/"
        },
        "id": "bZNN5v1mpLPE",
        "outputId": "8116f657-0d1e-4b75-b2f5-ddb80ac34d48"
      },
      "outputs": [
        {
          "output_type": "stream",
          "name": "stdout",
          "text": [
            "The 10th Fibonacci number is: 55\n",
            "0\n",
            "1\n",
            "5\n",
            "144\n",
            "None\n"
          ]
        }
      ],
      "source": [
        "def fibonacci(n):\n",
        "  \"\"\"\n",
        "  Calculates the nth Fibonacci number.\n",
        "\n",
        "  Args:\n",
        "    n: A non-negative integer representing the desired Fibonacci number index.\n",
        "\n",
        "  Returns:\n",
        "    The nth Fibonacci number. Returns 0 if n is 0, and 1 if n is 1.\n",
        "    Returns None for negative input.\n",
        "  \"\"\"\n",
        "  if n < 0:\n",
        "    return None\n",
        "  elif n == 0:\n",
        "    return 0\n",
        "  elif n == 1:\n",
        "    return 1\n",
        "  else:\n",
        "    a, b = 0, 1\n",
        "    for _ in range(2, n + 1):\n",
        "      c = a + b\n",
        "      a = b\n",
        "      b = c\n",
        "    return b\n",
        "\n",
        "# Example usage:\n",
        "if __name__ == \"__main__\":\n",
        "  num = 10\n",
        "  result = fibonacci(num)\n",
        "  if result is not None:\n",
        "    print(f\"The {num}th Fibonacci number is: {result}\")\n",
        "  else:\n",
        "    print(\"Invalid input. Please provide a non-negative integer.\")\n",
        "\n",
        "  print(fibonacci(0))\n",
        "  print(fibonacci(1))\n",
        "  print(fibonacci(5))\n",
        "  print(fibonacci(12))\n",
        "  print(fibonacci(-1))"
      ]
    },
    {
      "cell_type": "markdown",
      "metadata": {
        "id": "8ru43DqKp89o"
      },
      "source": [
        "# 02_print_events.md"
      ]
    },
    {
      "cell_type": "markdown",
      "metadata": {
        "id": "uR1whMUPp_E_"
      },
      "source": [
        "# Starter Code"
      ]
    },
    {
      "cell_type": "code",
      "execution_count": null,
      "metadata": {
        "id": "nkTwF1W5qIya",
        "colab": {
          "base_uri": "https://localhost:8080/"
        },
        "outputId": "7ac0a946-09bc-4c4b-b9a0-4189bc613e56"
      },
      "outputs": [
        {
          "output_type": "stream",
          "name": "stdout",
          "text": [
            "Upcoming Events:\n",
            "- Meeting with team (on 2025-04-09 02:29:35 )\n",
            "- Presentation preparation (on 2025-04-10 14:00:00 )\n",
            "- Project deadline (on 2025-04-16 17:00:00 )\n",
            "- Weekend getaway planning (on 2025-04-10 19:30:00 )\n",
            "\n",
            "Testing with an empty list:\n",
            "No events to display.\n"
          ]
        }
      ],
      "source": [
        "import datetime\n",
        "\n",
        "def print_events(events):\n",
        "  \"\"\"\n",
        "  Prints a list of events, each with a description and a datetime object.\n",
        "\n",
        "  Args:\n",
        "    events: A list of tuples, where each tuple contains:\n",
        "      - A string describing the event.\n",
        "      - A datetime.datetime object representing the event's date and time.\n",
        "  \"\"\"\n",
        "  if not events:\n",
        "    print(\"No events to display.\")\n",
        "    return\n",
        "\n",
        "  print(\"Upcoming Events:\")\n",
        "  for description, timestamp in events:\n",
        "    # Format the datetime object into a readable string\n",
        "    formatted_timestamp = timestamp.strftime(\"%Y-%m-%d %H:%M:%S %Z%z\")\n",
        "    print(f\"- {description} (on {formatted_timestamp})\")\n",
        "\n",
        "# Example Usage:\n",
        "if __name__ == \"__main__\":\n",
        "  # Create some sample events\n",
        "  now = datetime.datetime.now()\n",
        "  tomorrow = now + datetime.timedelta(days=1)\n",
        "  next_week = now + datetime.timedelta(weeks=1)\n",
        "\n",
        "  event_list = [\n",
        "      (\"Meeting with team\", now),\n",
        "      (\"Presentation preparation\", tomorrow.replace(hour=14, minute=0, second=0)),\n",
        "      (\"Project deadline\", next_week.replace(hour=17, minute=0, second=0)),\n",
        "      (\"Weekend getaway planning\", tomorrow.replace(hour=19, minute=30, second=0))\n",
        "  ]\n",
        "\n",
        "  print_events(event_list)\n",
        "\n",
        "  print(\"\\nTesting with an empty list:\")\n",
        "  print_events([])"
      ]
    },
    {
      "cell_type": "markdown",
      "metadata": {
        "id": "OasToRd6qY_I"
      },
      "source": [
        "# Solution"
      ]
    },
    {
      "cell_type": "code",
      "execution_count": null,
      "metadata": {
        "colab": {
          "base_uri": "https://localhost:8080/"
        },
        "id": "SB_AW7kWqcHZ",
        "outputId": "131764fb-6b20-41ab-c236-96aac5e7a0f4"
      },
      "outputs": [
        {
          "output_type": "stream",
          "name": "stdout",
          "text": [
            "Upcoming Events (in Asia/Karachi):\n",
            "- Meeting with team (UTC) (on 2025-04-09 07:30:38 PKT+0500)\n",
            "- Presentation preparation (UTC) (on 2025-04-10 19:00:00 PKT+0500)\n",
            "- Project deadline (naive) (on 2025-04-16 22:00:00 PKT+0500)\n",
            "- Weekend getaway planning (naive) (on 2025-04-11 15:00:00 PKT+0500)\n",
            "\n",
            "Testing with an empty list:\n",
            "No events to display.\n",
            "\n",
            "Creating a specific event in Karachi time:\n",
            "Upcoming Events (in Asia/Karachi):\n",
            "- Karachi event (on 2025-04-10 10:00:00 PKT+0500)\n"
          ]
        }
      ],
      "source": [
        "import datetime\n",
        "import pytz  # Import the pytz library for timezone handling\n",
        "\n",
        "def print_events(events):\n",
        "  \"\"\"\n",
        "  Prints a list of events, each with a description and a datetime object,\n",
        "  displaying the time in the Karachi time zone.\n",
        "\n",
        "  Args:\n",
        "    events: A list of tuples, where each tuple contains:\n",
        "      - A string describing the event.\n",
        "      - A datetime.datetime object representing the event's date and time\n",
        "        (can be naive or timezone-aware).\n",
        "  \"\"\"\n",
        "  if not events:\n",
        "    print(\"No events to display.\")\n",
        "    return\n",
        "\n",
        "  karachi_tz = pytz.timezone('Asia/Karachi')\n",
        "  print(f\"Upcoming Events (in {karachi_tz.zone}):\")\n",
        "  for description, timestamp in events:\n",
        "    if timestamp.tzinfo is None or timestamp.tzinfo.utcoffset(timestamp) is None:\n",
        "      # If the datetime object is naive, assume it's in UTC and then convert\n",
        "      timestamp_utc = timestamp.replace(tzinfo=pytz.utc)\n",
        "      timestamp_karachi = timestamp_utc.astimezone(karachi_tz)\n",
        "    else:\n",
        "      # If the datetime object is timezone-aware, convert it to Karachi time\n",
        "      timestamp_karachi = timestamp.astimezone(karachi_tz)\n",
        "\n",
        "    # Format the datetime object into a readable string in Karachi time\n",
        "    formatted_timestamp = timestamp_karachi.strftime(\"%Y-%m-%d %H:%M:%S %Z%z\")\n",
        "    print(f\"- {description} (on {formatted_timestamp})\")\n",
        "\n",
        "# Example Usage:\n",
        "if __name__ == \"__main__\":\n",
        "  # Create some sample events (some naive, some with UTC timezone)\n",
        "  now_utc = datetime.datetime.utcnow().replace(tzinfo=pytz.utc)\n",
        "  tomorrow_utc = now_utc + datetime.timedelta(days=1)\n",
        "  next_week_naive = datetime.datetime.now() + datetime.timedelta(weeks=1)\n",
        "\n",
        "  event_list = [\n",
        "      (\"Meeting with team (UTC)\", now_utc),\n",
        "      (\"Presentation preparation (UTC)\", tomorrow_utc.replace(hour=14, minute=0, second=0)),\n",
        "      (\"Project deadline (naive)\", next_week_naive.replace(hour=17, minute=0, second=0)),\n",
        "      (\"Weekend getaway planning (naive)\", (datetime.datetime.now() + datetime.timedelta(days=2)).replace(hour=10, minute=0, second=0))\n",
        "  ]\n",
        "\n",
        "  print_events(event_list)\n",
        "\n",
        "  print(\"\\nTesting with an empty list:\")\n",
        "  print_events([])\n",
        "\n",
        "  print(\"\\nCreating a specific event in Karachi time:\")\n",
        "  karachi_tz = pytz.timezone('Asia/Karachi')\n",
        "  specific_karachi_time = karachi_tz.localize(datetime.datetime(2025, 4, 10, 10, 0, 0))\n",
        "  print_events([(\"Karachi event\", specific_karachi_time)])"
      ]
    },
    {
      "cell_type": "markdown",
      "metadata": {
        "id": "QSfHrhU1qnpD"
      },
      "source": [
        "# 03_wholesome_machine.md"
      ]
    },
    {
      "cell_type": "markdown",
      "metadata": {
        "id": "RakftUZ-qtA9"
      },
      "source": [
        "# Starter Code"
      ]
    },
    {
      "cell_type": "code",
      "execution_count": null,
      "metadata": {
        "id": "Tw1Sv13lqweU",
        "colab": {
          "base_uri": "https://localhost:8080/"
        },
        "outputId": "cfa20a9b-616e-4ba5-8f45-71042b474cff"
      },
      "outputs": [
        {
          "output_type": "stream",
          "name": "stdout",
          "text": [
            "You are truly brave.\n"
          ]
        }
      ],
      "source": [
        "import random\n",
        "\n",
        "def generate_wholesome_message():\n",
        "  \"\"\"Generates a random wholesome and encouraging message.\"\"\"\n",
        "  positive_adjectives = [\n",
        "      \"amazing\", \"awesome\", \"brave\", \"brilliant\", \"caring\",\n",
        "      \"charming\", \"clever\", \"confident\", \"creative\", \"delightful\",\n",
        "      \"determined\", \"dynamic\", \"elegant\", \"energetic\", \"fantastic\",\n",
        "      \"fearless\", \"friendly\", \"funny\", \"generous\", \"gentle\",\n",
        "      \"happy\", \"helpful\", \"honest\", \"hopeful\", \"humble\",\n",
        "      \"inspiring\", \"joyful\", \"kind\", \"lovely\", \"loyal\",\n",
        "      \"magnificent\", \"marvelous\", \"nice\", \"optimistic\", \"passionate\",\n",
        "      \"patient\", \"peaceful\", \"pleasant\", \"positive\", \"precious\",\n",
        "      \"radiant\", \"remarkable\", \"sincere\", \"smart\", \"special\",\n",
        "      \"splendid\", \"strong\", \"supportive\", \"thoughtful\", \"trustworthy\",\n",
        "      \"unique\", \"vibrant\", \"wise\", \"wonderful\", \"zestful\"\n",
        "  ]\n",
        "\n",
        "  encouraging_phrases = [\n",
        "      \"You've got this!\",\n",
        "      \"Keep shining!\",\n",
        "      \"Believe in yourself.\",\n",
        "      \"You are making a difference.\",\n",
        "      \"Every day is a new opportunity.\",\n",
        "      \"Your efforts are appreciated.\",\n",
        "      \"You are capable of great things.\",\n",
        "      \"Never give up on your dreams.\",\n",
        "      \"The world is a better place with you in it.\",\n",
        "      \"You are loved and valued.\",\n",
        "      \"Take it one step at a time.\",\n",
        "      \"Progress, not perfection.\",\n",
        "      \"Embrace the journey.\",\n",
        "      \"You are stronger than you think.\",\n",
        "      \"Spread kindness wherever you go.\",\n",
        "      \"Your positivity is contagious.\",\n",
        "      \"You inspire others.\",\n",
        "      \"Celebrate your small victories.\",\n",
        "      \"Don't be afraid to be yourself.\",\n",
        "      \"You are enough.\",\n",
        "      \"Keep moving forward.\",\n",
        "      \"Tomorrow is full of possibilities.\",\n",
        "      \"You are doing great.\",\n",
        "      \"Remember to take care of yourself.\",\n",
        "      \"Your smile brightens someone's day.\"\n",
        "  ]\n",
        "\n",
        "  subject_pronouns = [\"You are\", \"You're\"]\n",
        "\n",
        "  adjective = random.choice(positive_adjectives)\n",
        "  phrase = random.choice(encouraging_phrases)\n",
        "  pronoun = random.choice(subject_pronouns)\n",
        "\n",
        "  message_structure = random.choice([\n",
        "      f\"{pronoun} so {adjective}!\",\n",
        "      f\"Remember: {phrase}\",\n",
        "      f\"{pronoun} truly {adjective}.\",\n",
        "      f\"{phrase} Keep up the amazing work!\",\n",
        "      f\"Just wanted to say, {pronoun} {adjective} and {phrase}\"\n",
        "  ])\n",
        "\n",
        "  return message_structure\n",
        "\n",
        "def wholesome_machine():\n",
        "  \"\"\"Runs the wholesome message generator and prints a message.\"\"\"\n",
        "  message = generate_wholesome_message()\n",
        "  print(message)\n",
        "\n",
        "if __name__ == \"__main__\":\n",
        "  wholesome_machine()"
      ]
    },
    {
      "cell_type": "markdown",
      "metadata": {
        "id": "0jeE3Z8ywwyj"
      },
      "source": [
        "# Solution"
      ]
    },
    {
      "cell_type": "code",
      "execution_count": null,
      "metadata": {
        "colab": {
          "base_uri": "https://localhost:8080/"
        },
        "collapsed": true,
        "id": "240gJAvmw0Sf",
        "outputId": "08c920bf-e1a7-4971-82c5-3cabe773044b"
      },
      "outputs": [
        {
          "output_type": "stream",
          "name": "stdout",
          "text": [
            "Would you like to personalize the message? (yes/no): N\n",
            "\n",
            "Just a little reminder: Keep trying, hero! 🌟 You're awesome!\n",
            "\n",
            "(A little extra for you: Good morning! May your day be filled with joy. 😊)\n"
          ]
        }
      ],
      "source": [
        "import random\n",
        "import datetime\n",
        "import pytz\n",
        "\n",
        "def generate_wholesome_message(name=None):\n",
        "  \"\"\"Generates a random wholesome and encouraging message, optionally personalized.\"\"\"\n",
        "  positive_adjectives = [\n",
        "      \"amazing\", \"awesome\", \"brave\", \"brilliant\", \"caring\",\n",
        "      \"charming\", \"clever\", \"confident\", \"creative\", \"delightful\",\n",
        "      \"determined\", \"dynamic\", \"elegant\", \"energetic\", \"fantastic\",\n",
        "      \"fearless\", \"friendly\", \"funny\", \"generous\", \"gentle\",\n",
        "      \"happy\", \"helpful\", \"honest\", \"hopeful\", \"humble\",\n",
        "      \"inspiring\", \"joyful\", \"kind\", \"lovely\", \"loyal\",\n",
        "      \"magnificent\", \"marvelous\", \"nice\", \"optimistic\", \"passionate\",\n",
        "      \"patient\", \"peaceful\", \"pleasant\", \"positive\", \"precious\",\n",
        "      \"radiant\", \"remarkable\", \"sincere\", \"smart\", \"special\",\n",
        "      \"splendid\", \"strong\", \"supportive\", \"thoughtful\", \"trustworthy\",\n",
        "      \"unique\", \"vibrant\", \"wise\", \"wonderful\", \"zestful\"\n",
        "  ]\n",
        "\n",
        "  encouraging_phrases = [\n",
        "      \"You've got this!\",\n",
        "      \"Keep shining!\",\n",
        "      \"Believe in yourself.\",\n",
        "      \"You are making a difference.\",\n",
        "      \"Every day is a new opportunity.\",\n",
        "      \"Your efforts are appreciated.\",\n",
        "      \"You are capable of great things.\",\n",
        "      \"Never give up on your dreams.\",\n",
        "      \"The world is a better place with you in it.\",\n",
        "      \"You are loved and valued.\",\n",
        "      \"Take it one step at a time.\",\n",
        "      \"Progress, not perfection.\",\n",
        "      \"Embrace the journey.\",\n",
        "      \"You are stronger than you think.\",\n",
        "      \"Spread kindness wherever you go.\",\n",
        "      \"Your positivity is contagious.\",\n",
        "      \"You inspire others.\",\n",
        "      \"Celebrate your small victories.\",\n",
        "      \"Don't be afraid to be yourself.\",\n",
        "      \"You are enough.\",\n",
        "      \"Keep moving forward.\",\n",
        "      \"Tomorrow is full of possibilities.\",\n",
        "      \"You are doing great.\",\n",
        "      \"Remember to take care of yourself.\",\n",
        "      \"Your smile brightens someone's day.\"\n",
        "  ]\n",
        "\n",
        "  positive_nouns = [\"friend\", \"star\", \"sunshine\", \"hero\", \"gem\", \"inspiration\", \"light\"]\n",
        "  action_verbs = [\"Keep going\", \"Keep growing\", \"Keep creating\", \"Keep learning\", \"Keep trying\"]\n",
        "  introductory_remarks = [\"Just a little reminder:\", \"Hey there!\", \"Good morning!\", \"Hello!\", \"A little note for you:\", \"Thinking of you!\"]\n",
        "  concluding_remarks = [\"Have a wonderful day!\", \"Keep being you!\", \"You're awesome!\", \"Sending good vibes!\", \"Stay positive!\", \"Shine bright!\"]\n",
        "  emojis = [\"😊\", \"🌟\", \"💖\", \"☀️\", \"🌱\", \"🌈\", \"💫\"]\n",
        "\n",
        "  subject_pronouns = [\"You are\", \"You're\"]\n",
        "  pronoun = random.choice(subject_pronouns)\n",
        "  adjective = random.choice(positive_adjectives)\n",
        "  phrase = random.choice(encouraging_phrases)\n",
        "  noun = random.choice(positive_nouns)\n",
        "  verb = random.choice(action_verbs)\n",
        "  intro = random.choice([None] + introductory_remarks)  # None for no intro\n",
        "  conclude = random.choice([None] + concluding_remarks) # None for no conclusion\n",
        "  emoji = random.choice([None] + emojis) # Optional emoji\n",
        "\n",
        "  message_parts = []\n",
        "  if intro:\n",
        "    message_parts.append(intro)\n",
        "  if name:\n",
        "    message_parts.append(f\"{name},\")\n",
        "\n",
        "  structure_choice = random.randint(1, 6)\n",
        "\n",
        "  if structure_choice == 1:\n",
        "    message_parts.append(f\"{pronoun} so {adjective}! {emoji if emoji else ''}\")\n",
        "  elif structure_choice == 2:\n",
        "    message_parts.append(f\"Remember: {phrase} {emoji if emoji else ''}\")\n",
        "  elif structure_choice == 3:\n",
        "    message_parts.append(f\"{pronoun} truly {adjective} like a {noun}. {emoji if emoji else ''}\")\n",
        "  elif structure_choice == 4:\n",
        "    message_parts.append(f\"{phrase} {verb}! {emoji if emoji else ''}\")\n",
        "  elif structure_choice == 5:\n",
        "    message_parts.append(f\"Just wanted to say, {pronoun} {adjective} and {phrase}. {emoji if emoji else ''}\")\n",
        "  elif structure_choice == 6:\n",
        "    message_parts.append(f\"{verb}, {noun}! {emoji if emoji else ''}\")\n",
        "\n",
        "  if conclude:\n",
        "    message_parts.append(conclude)\n",
        "\n",
        "  return \" \".join(message_parts).strip()\n",
        "\n",
        "def wholesome_machine():\n",
        "  \"\"\"Runs the wholesome message generator and prints a message, optionally personalized.\"\"\"\n",
        "  use_name = input(\"Would you like to personalize the message? (yes/no): \").lower()\n",
        "  name = None\n",
        "  if use_name == \"yes\":\n",
        "    name = input(\"Enter your name: \").strip().capitalize()\n",
        "\n",
        "  message = generate_wholesome_message(name)\n",
        "  print(\"\\n\" + message)\n",
        "\n",
        "  # Add a time-based wholesome message\n",
        "  karachi_tz = pytz.timezone('Asia/Karachi')\n",
        "  now_karachi = datetime.datetime.now(karachi_tz)\n",
        "  hour = now_karachi.hour\n",
        "\n",
        "  time_of_day_message = \"\"\n",
        "  if 5 <= hour < 12:\n",
        "    time_of_day_message = \"Good morning! May your day be filled with joy.\"\n",
        "  elif 12 <= hour < 17:\n",
        "    time_of_day_message = \"Good afternoon! Hope you're having a wonderful day so far.\"\n",
        "  elif 17 <= hour < 22:\n",
        "    time_of_day_message = \"Good evening! Take a moment to relax and appreciate your efforts.\"\n",
        "  else:\n",
        "    time_of_day_message = \"It's late! Remember to rest and recharge. You deserve it.\"\n",
        "\n",
        "  print(f\"\\n(A little extra for you: {time_of_day_message} 😊)\")\n",
        "\n",
        "\n",
        "if __name__ == \"__main__\":\n",
        "  wholesome_machine()"
      ]
    },
    {
      "cell_type": "markdown",
      "metadata": {
        "id": "6qtqCHgcxW3Z"
      },
      "source": [
        "# 04_liftoff.md"
      ]
    },
    {
      "cell_type": "markdown",
      "metadata": {
        "id": "EwGnvlrrxZR5"
      },
      "source": [
        "# Starter Code"
      ]
    },
    {
      "cell_type": "code",
      "execution_count": null,
      "metadata": {
        "id": "7Zq0fcOFxgBU",
        "colab": {
          "base_uri": "https://localhost:8080/"
        },
        "outputId": "82890783-34fb-4d99-bef2-f494d5eb4895"
      },
      "outputs": [
        {
          "output_type": "stream",
          "name": "stdout",
          "text": [
            "Enter the countdown time in seconds: 2\n",
            "Liftoff!\n"
          ]
        }
      ],
      "source": [
        "import time\n",
        "\n",
        "def countdown(t):\n",
        "  \"\"\"Counts down from a given number of seconds.\"\"\"\n",
        "  while t > 0:\n",
        "    print(t, end='\\r')  # Use \\r to overwrite the previous line\n",
        "    time.sleep(1)\n",
        "    t -= 1\n",
        "  print(\"Liftoff!\")\n",
        "\n",
        "if __name__ == \"__main__\":\n",
        "  try:\n",
        "    seconds = int(input(\"Enter the countdown time in seconds: \"))\n",
        "    if seconds <= 0:\n",
        "      print(\"Please enter a positive number of seconds.\")\n",
        "    else:\n",
        "      countdown(seconds)\n",
        "  except ValueError:\n",
        "    print(\"Invalid input. Please enter a whole number.\")"
      ]
    },
    {
      "cell_type": "markdown",
      "metadata": {
        "id": "HJD4gn8Kxp2X"
      },
      "source": [
        "# Solution"
      ]
    },
    {
      "cell_type": "code",
      "execution_count": null,
      "metadata": {
        "id": "LZ4kkMXfxtdK",
        "colab": {
          "base_uri": "https://localhost:8080/"
        },
        "outputId": "3ed8b719-3792-419b-fcb4-2c7d7a3ed67b"
      },
      "outputs": [
        {
          "output_type": "stream",
          "name": "stdout",
          "text": [
            "Enter the countdown time in seconds: 8\n",
            "\n",
            "\n",
            "  🚀\n",
            "  ***\n",
            " *****\n",
            "*******\n",
            " *****\n",
            "  ***\n",
            "   *\n",
            "\n",
            "Liftoff!\n"
          ]
        }
      ],
      "source": [
        "import time\n",
        "\n",
        "def countdown(t):\n",
        "  \"\"\"Counts down from a given number of seconds with T-minus and liftoff effects.\"\"\"\n",
        "  while t > 0:\n",
        "    print(f\"T-minus {t}\", end='\\r')\n",
        "    time.sleep(1)\n",
        "    t -= 1\n",
        "  print(\"T-minus 0\", end='\\r')\n",
        "  time.sleep(0.5)\n",
        "  print(\"\\n\")\n",
        "  print(\"  🚀\")\n",
        "  print(\"  ***\")\n",
        "  print(\" *****\")\n",
        "  print(\"*******\")\n",
        "  print(\" *****\")\n",
        "  print(\"  ***\")\n",
        "  print(\"   *\")\n",
        "  print(\"\\nLiftoff!\")\n",
        "\n",
        "if __name__ == \"__main__\":\n",
        "  try:\n",
        "    seconds = int(input(\"Enter the countdown time in seconds: \"))\n",
        "    if seconds <= 0:\n",
        "      print(\"Please enter a positive number of seconds.\")\n",
        "    else:\n",
        "      countdown(seconds)\n",
        "  except ValueError:\n",
        "    print(\"Invalid input. Please enter a whole number.\")"
      ]
    },
    {
      "cell_type": "markdown",
      "metadata": {
        "id": "HAdbdbCm1AK5"
      },
      "source": [
        "# 5_double_it.md"
      ]
    },
    {
      "cell_type": "markdown",
      "metadata": {
        "id": "dLhKnac01DFt"
      },
      "source": [
        "# Starter Code"
      ]
    },
    {
      "cell_type": "code",
      "execution_count": null,
      "metadata": {
        "id": "wXqi-OdH1Jrn",
        "colab": {
          "base_uri": "https://localhost:8080/"
        },
        "outputId": "098e2bbb-a629-44b3-f015-d8441d29610a"
      },
      "outputs": [
        {
          "output_type": "stream",
          "name": "stdout",
          "text": [
            "The double of 5 is: None\n",
            "The double of -10 is: None\n",
            "The double of 0 is: None\n"
          ]
        }
      ],
      "source": [
        "def double_number(num):\n",
        "  \"\"\"\n",
        "  Doubles the input number.\n",
        "\n",
        "  Args:\n",
        "    num: The number to be doubled.\n",
        "\n",
        "  Returns:\n",
        "    The result of doubling the input number.\n",
        "  \"\"\"\n",
        "  # Your code here\n",
        "\n",
        "# Example usage:\n",
        "if __name__ == \"__main__\":\n",
        "  number_to_double = 5\n",
        "  doubled_number = double_number(number_to_double)\n",
        "  print(f\"The double of {number_to_double} is: {doubled_number}\")\n",
        "\n",
        "  another_number = -10\n",
        "  another_doubled = double_number(another_number)\n",
        "  print(f\"The double of {another_number} is: {another_doubled}\")\n",
        "\n",
        "  zero_number = 0\n",
        "  zero_doubled = double_number(zero_number)\n",
        "  print(f\"The double of {zero_number} is: {zero_doubled}\")"
      ]
    },
    {
      "cell_type": "markdown",
      "metadata": {
        "id": "k3KVTWsG1NiV"
      },
      "source": [
        "# Solution"
      ]
    },
    {
      "cell_type": "code",
      "execution_count": null,
      "metadata": {
        "id": "vJ6pgm501XUC"
      },
      "outputs": [],
      "source": []
    }
  ],
  "metadata": {
    "colab": {
      "provenance": [],
      "authorship_tag": "ABX9TyMweGBX+yyZzv270VBYzQTn",
      "include_colab_link": true
    },
    "kernelspec": {
      "display_name": "Python 3",
      "name": "python3"
    },
    "language_info": {
      "name": "python"
    }
  },
  "nbformat": 4,
  "nbformat_minor": 0
}